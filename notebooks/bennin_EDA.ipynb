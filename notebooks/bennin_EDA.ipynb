{
 "cells": [
  {
   "cell_type": "code",
   "execution_count": 93,
   "id": "7eb47222",
   "metadata": {},
   "outputs": [],
   "source": [
    "import pandas as pd\n",
    "import matplotlib.pyplot as plt\n",
    "import seaborn as sns\n",
    "from scipy import stats\n",
    "import numpy as np\n"
   ]
  },
  {
   "cell_type": "code",
   "execution_count": 94,
   "id": "fea97ebb",
   "metadata": {},
   "outputs": [],
   "source": [
    "df = pd.read_csv(\"C:/Users/User/Downloads/week 0/data/benin-malanville.csv\")\n"
   ]
  },
  {
   "cell_type": "markdown",
   "id": "a45c231d",
   "metadata": {},
   "source": [
    ".●\tSummary Statistics & Missing-Value Report"
   ]
  },
  {
   "cell_type": "code",
   "execution_count": 96,
   "id": "6846c4cc",
   "metadata": {},
   "outputs": [
    {
     "name": "stdout",
     "output_type": "stream",
     "text": [
      "          Timestamp  GHI  DNI  DHI  ModA  ModB  Tamb    RH   WS  WSgust  \\\n",
      "0  2021-08-09 00:01 -1.2 -0.2 -1.1   0.0   0.0  26.2  93.4  0.0     0.4   \n",
      "1  2021-08-09 00:02 -1.1 -0.2 -1.1   0.0   0.0  26.2  93.6  0.0     0.0   \n",
      "2  2021-08-09 00:03 -1.1 -0.2 -1.1   0.0   0.0  26.2  93.7  0.3     1.1   \n",
      "3  2021-08-09 00:04 -1.1 -0.1 -1.0   0.0   0.0  26.2  93.3  0.2     0.7   \n",
      "4  2021-08-09 00:05 -1.0 -0.1 -1.0   0.0   0.0  26.2  93.3  0.1     0.7   \n",
      "5  2021-08-09 00:06 -1.0 -0.1 -1.0   0.0   0.0  26.2  93.8  0.0     0.4   \n",
      "6  2021-08-09 00:07 -1.0 -0.1 -1.0   0.0   0.0  26.2  93.7  0.0     0.0   \n",
      "7  2021-08-09 00:08 -1.0 -0.1 -1.0   0.0   0.0  26.2  93.7  0.7     1.3   \n",
      "8  2021-08-09 00:09 -1.0 -0.1 -1.0   0.0   0.0  26.2  93.6  0.4     1.1   \n",
      "9  2021-08-09 00:10 -1.0 -0.1 -1.0   0.0   0.0  26.2  93.6  0.5     1.1   \n",
      "\n",
      "   WSstdev     WD  WDstdev   BP  Cleaning  Precipitation  TModA  TModB  \\\n",
      "0      0.1  122.1      0.0  998         0            0.0   26.3   26.2   \n",
      "1      0.0    0.0      0.0  998         0            0.0   26.3   26.2   \n",
      "2      0.5  124.6      1.5  997         0            0.0   26.4   26.2   \n",
      "3      0.4  120.3      1.3  997         0            0.0   26.4   26.3   \n",
      "4      0.3  113.2      1.0  997         0            0.0   26.4   26.3   \n",
      "5      0.1  119.1      0.0  997         0            0.0   26.4   26.3   \n",
      "6      0.0    0.0      0.0  997         0            0.0   26.5   26.3   \n",
      "7      0.6  126.8      2.8  997         0            0.0   26.5   26.3   \n",
      "8      0.5  124.9      5.5  997         0            0.0   26.5   26.4   \n",
      "9      0.5  114.2      5.1  997         0            0.0   26.5   26.4   \n",
      "\n",
      "   Comments  \n",
      "0       NaN  \n",
      "1       NaN  \n",
      "2       NaN  \n",
      "3       NaN  \n",
      "4       NaN  \n",
      "5       NaN  \n",
      "6       NaN  \n",
      "7       NaN  \n",
      "8       NaN  \n",
      "9       NaN  \n"
     ]
    }
   ],
   "source": [
    "print(df.head(10))"
   ]
  },
  {
   "cell_type": "code",
   "execution_count": 97,
   "id": "1d629c0e",
   "metadata": {},
   "outputs": [
    {
     "name": "stdout",
     "output_type": "stream",
     "text": [
      "               Timestamp  GHI  DNI  DHI  ModA  ModB  Tamb    RH   WS  WSgust  \\\n",
      "525590  2022-08-08 23:51 -5.5 -0.1 -5.8   0.0   0.0  23.1  98.3  0.6     1.3   \n",
      "525591  2022-08-08 23:52 -5.5  0.0 -5.8   0.0   0.0  23.1  98.3  0.4     1.1   \n",
      "525592  2022-08-08 23:53 -5.5 -0.1 -5.8   0.0   0.0  23.1  98.4  0.3     1.1   \n",
      "525593  2022-08-08 23:54 -5.5 -0.1 -5.9   0.0   0.0  23.1  98.4  0.1     1.1   \n",
      "525594  2022-08-08 23:55 -5.5 -0.1 -5.9   0.0   0.0  23.1  98.3  0.1     1.1   \n",
      "525595  2022-08-08 23:56 -5.5 -0.1 -5.9   0.0   0.0  23.1  98.3  0.3     1.1   \n",
      "525596  2022-08-08 23:57 -5.5 -0.1 -5.8   0.0   0.0  23.1  98.3  0.2     0.7   \n",
      "525597  2022-08-08 23:58 -5.5 -0.1 -5.8   0.0   0.0  23.1  98.4  0.6     1.1   \n",
      "525598  2022-08-08 23:59 -5.5 -0.1 -5.8   0.0   0.0  23.1  98.3  0.9     1.3   \n",
      "525599  2022-08-09 00:00 -5.5 -0.1 -5.7   0.0   0.0  23.1  98.3  1.2     1.6   \n",
      "\n",
      "        WSstdev     WD  WDstdev   BP  Cleaning  Precipitation  TModA  TModB  \\\n",
      "525590      0.6   95.9      6.2  996         0            0.0   23.4   22.8   \n",
      "525591      0.5   94.0      2.5  996         0            0.0   23.4   22.8   \n",
      "525592      0.5  103.5      1.9  996         0            0.0   23.5   22.9   \n",
      "525593      0.3   94.3      1.5  996         0            0.0   23.5   22.9   \n",
      "525594      0.3  112.2      0.7  996         0            0.0   23.5   22.9   \n",
      "525595      0.5  119.3      4.1  996         0            0.0   23.5   22.9   \n",
      "525596      0.4  115.2      2.3  996         0            0.0   23.5   22.9   \n",
      "525597      0.5  129.8      3.4  996         0            0.0   23.5   22.9   \n",
      "525598      0.5  124.4      4.3  996         0            0.0   23.5   22.9   \n",
      "525599      0.3  124.1      5.9  996         0            0.0   23.5   22.9   \n",
      "\n",
      "        Comments  \n",
      "525590       NaN  \n",
      "525591       NaN  \n",
      "525592       NaN  \n",
      "525593       NaN  \n",
      "525594       NaN  \n",
      "525595       NaN  \n",
      "525596       NaN  \n",
      "525597       NaN  \n",
      "525598       NaN  \n",
      "525599       NaN  \n"
     ]
    }
   ],
   "source": [
    "print(df.tail(10))"
   ]
  },
  {
   "cell_type": "code",
   "execution_count": 99,
   "id": "58bb3c47",
   "metadata": {},
   "outputs": [
    {
     "data": {
      "text/html": [
       "<div>\n",
       "<style scoped>\n",
       "    .dataframe tbody tr th:only-of-type {\n",
       "        vertical-align: middle;\n",
       "    }\n",
       "\n",
       "    .dataframe tbody tr th {\n",
       "        vertical-align: top;\n",
       "    }\n",
       "\n",
       "    .dataframe thead th {\n",
       "        text-align: right;\n",
       "    }\n",
       "</style>\n",
       "<table border=\"1\" class=\"dataframe\">\n",
       "  <thead>\n",
       "    <tr style=\"text-align: right;\">\n",
       "      <th></th>\n",
       "      <th>GHI</th>\n",
       "      <th>DNI</th>\n",
       "      <th>DHI</th>\n",
       "      <th>ModA</th>\n",
       "      <th>ModB</th>\n",
       "      <th>Tamb</th>\n",
       "      <th>RH</th>\n",
       "      <th>WS</th>\n",
       "      <th>WSgust</th>\n",
       "      <th>WSstdev</th>\n",
       "      <th>WD</th>\n",
       "      <th>WDstdev</th>\n",
       "      <th>BP</th>\n",
       "      <th>Cleaning</th>\n",
       "      <th>Precipitation</th>\n",
       "      <th>TModA</th>\n",
       "      <th>TModB</th>\n",
       "      <th>Comments</th>\n",
       "    </tr>\n",
       "  </thead>\n",
       "  <tbody>\n",
       "    <tr>\n",
       "      <th>count</th>\n",
       "      <td>525600.000000</td>\n",
       "      <td>525600.000000</td>\n",
       "      <td>525600.000000</td>\n",
       "      <td>525600.000000</td>\n",
       "      <td>525600.000000</td>\n",
       "      <td>525600.000000</td>\n",
       "      <td>525600.000000</td>\n",
       "      <td>525600.000000</td>\n",
       "      <td>525600.000000</td>\n",
       "      <td>525600.000000</td>\n",
       "      <td>525600.000000</td>\n",
       "      <td>525600.000000</td>\n",
       "      <td>525600.000000</td>\n",
       "      <td>525600.000000</td>\n",
       "      <td>525600.000000</td>\n",
       "      <td>525600.000000</td>\n",
       "      <td>525600.000000</td>\n",
       "      <td>0.0</td>\n",
       "    </tr>\n",
       "    <tr>\n",
       "      <th>mean</th>\n",
       "      <td>240.559452</td>\n",
       "      <td>167.187516</td>\n",
       "      <td>115.358961</td>\n",
       "      <td>236.589496</td>\n",
       "      <td>228.883576</td>\n",
       "      <td>28.179683</td>\n",
       "      <td>54.487969</td>\n",
       "      <td>2.121113</td>\n",
       "      <td>2.809195</td>\n",
       "      <td>0.473390</td>\n",
       "      <td>153.435172</td>\n",
       "      <td>8.582407</td>\n",
       "      <td>994.197199</td>\n",
       "      <td>0.000923</td>\n",
       "      <td>0.001905</td>\n",
       "      <td>35.246026</td>\n",
       "      <td>32.471736</td>\n",
       "      <td>NaN</td>\n",
       "    </tr>\n",
       "    <tr>\n",
       "      <th>std</th>\n",
       "      <td>331.131327</td>\n",
       "      <td>261.710501</td>\n",
       "      <td>158.691074</td>\n",
       "      <td>326.894859</td>\n",
       "      <td>316.536515</td>\n",
       "      <td>5.924297</td>\n",
       "      <td>28.073069</td>\n",
       "      <td>1.603466</td>\n",
       "      <td>2.029120</td>\n",
       "      <td>0.273395</td>\n",
       "      <td>102.332842</td>\n",
       "      <td>6.385864</td>\n",
       "      <td>2.474993</td>\n",
       "      <td>0.030363</td>\n",
       "      <td>0.037115</td>\n",
       "      <td>14.807258</td>\n",
       "      <td>12.348743</td>\n",
       "      <td>NaN</td>\n",
       "    </tr>\n",
       "    <tr>\n",
       "      <th>min</th>\n",
       "      <td>-12.900000</td>\n",
       "      <td>-7.800000</td>\n",
       "      <td>-12.600000</td>\n",
       "      <td>0.000000</td>\n",
       "      <td>0.000000</td>\n",
       "      <td>11.000000</td>\n",
       "      <td>2.100000</td>\n",
       "      <td>0.000000</td>\n",
       "      <td>0.000000</td>\n",
       "      <td>0.000000</td>\n",
       "      <td>0.000000</td>\n",
       "      <td>0.000000</td>\n",
       "      <td>985.000000</td>\n",
       "      <td>0.000000</td>\n",
       "      <td>0.000000</td>\n",
       "      <td>9.000000</td>\n",
       "      <td>8.100000</td>\n",
       "      <td>NaN</td>\n",
       "    </tr>\n",
       "    <tr>\n",
       "      <th>25%</th>\n",
       "      <td>-2.000000</td>\n",
       "      <td>-0.500000</td>\n",
       "      <td>-2.100000</td>\n",
       "      <td>0.000000</td>\n",
       "      <td>0.000000</td>\n",
       "      <td>24.200000</td>\n",
       "      <td>28.800000</td>\n",
       "      <td>1.000000</td>\n",
       "      <td>1.300000</td>\n",
       "      <td>0.400000</td>\n",
       "      <td>59.000000</td>\n",
       "      <td>3.700000</td>\n",
       "      <td>993.000000</td>\n",
       "      <td>0.000000</td>\n",
       "      <td>0.000000</td>\n",
       "      <td>24.200000</td>\n",
       "      <td>23.600000</td>\n",
       "      <td>NaN</td>\n",
       "    </tr>\n",
       "    <tr>\n",
       "      <th>50%</th>\n",
       "      <td>1.800000</td>\n",
       "      <td>-0.100000</td>\n",
       "      <td>1.600000</td>\n",
       "      <td>4.500000</td>\n",
       "      <td>4.300000</td>\n",
       "      <td>28.000000</td>\n",
       "      <td>55.100000</td>\n",
       "      <td>1.900000</td>\n",
       "      <td>2.600000</td>\n",
       "      <td>0.500000</td>\n",
       "      <td>181.000000</td>\n",
       "      <td>8.600000</td>\n",
       "      <td>994.000000</td>\n",
       "      <td>0.000000</td>\n",
       "      <td>0.000000</td>\n",
       "      <td>30.000000</td>\n",
       "      <td>28.900000</td>\n",
       "      <td>NaN</td>\n",
       "    </tr>\n",
       "    <tr>\n",
       "      <th>75%</th>\n",
       "      <td>483.400000</td>\n",
       "      <td>314.200000</td>\n",
       "      <td>216.300000</td>\n",
       "      <td>463.700000</td>\n",
       "      <td>447.900000</td>\n",
       "      <td>32.300000</td>\n",
       "      <td>80.100000</td>\n",
       "      <td>3.100000</td>\n",
       "      <td>4.100000</td>\n",
       "      <td>0.600000</td>\n",
       "      <td>235.100000</td>\n",
       "      <td>12.300000</td>\n",
       "      <td>996.000000</td>\n",
       "      <td>0.000000</td>\n",
       "      <td>0.000000</td>\n",
       "      <td>46.900000</td>\n",
       "      <td>41.500000</td>\n",
       "      <td>NaN</td>\n",
       "    </tr>\n",
       "    <tr>\n",
       "      <th>max</th>\n",
       "      <td>1413.000000</td>\n",
       "      <td>952.300000</td>\n",
       "      <td>759.200000</td>\n",
       "      <td>1342.300000</td>\n",
       "      <td>1342.300000</td>\n",
       "      <td>43.800000</td>\n",
       "      <td>100.000000</td>\n",
       "      <td>19.500000</td>\n",
       "      <td>26.600000</td>\n",
       "      <td>4.200000</td>\n",
       "      <td>360.000000</td>\n",
       "      <td>99.400000</td>\n",
       "      <td>1003.000000</td>\n",
       "      <td>1.000000</td>\n",
       "      <td>2.500000</td>\n",
       "      <td>81.000000</td>\n",
       "      <td>72.500000</td>\n",
       "      <td>NaN</td>\n",
       "    </tr>\n",
       "  </tbody>\n",
       "</table>\n",
       "</div>"
      ],
      "text/plain": [
       "                 GHI            DNI            DHI           ModA  \\\n",
       "count  525600.000000  525600.000000  525600.000000  525600.000000   \n",
       "mean      240.559452     167.187516     115.358961     236.589496   \n",
       "std       331.131327     261.710501     158.691074     326.894859   \n",
       "min       -12.900000      -7.800000     -12.600000       0.000000   \n",
       "25%        -2.000000      -0.500000      -2.100000       0.000000   \n",
       "50%         1.800000      -0.100000       1.600000       4.500000   \n",
       "75%       483.400000     314.200000     216.300000     463.700000   \n",
       "max      1413.000000     952.300000     759.200000    1342.300000   \n",
       "\n",
       "                ModB           Tamb             RH             WS  \\\n",
       "count  525600.000000  525600.000000  525600.000000  525600.000000   \n",
       "mean      228.883576      28.179683      54.487969       2.121113   \n",
       "std       316.536515       5.924297      28.073069       1.603466   \n",
       "min         0.000000      11.000000       2.100000       0.000000   \n",
       "25%         0.000000      24.200000      28.800000       1.000000   \n",
       "50%         4.300000      28.000000      55.100000       1.900000   \n",
       "75%       447.900000      32.300000      80.100000       3.100000   \n",
       "max      1342.300000      43.800000     100.000000      19.500000   \n",
       "\n",
       "              WSgust        WSstdev             WD        WDstdev  \\\n",
       "count  525600.000000  525600.000000  525600.000000  525600.000000   \n",
       "mean        2.809195       0.473390     153.435172       8.582407   \n",
       "std         2.029120       0.273395     102.332842       6.385864   \n",
       "min         0.000000       0.000000       0.000000       0.000000   \n",
       "25%         1.300000       0.400000      59.000000       3.700000   \n",
       "50%         2.600000       0.500000     181.000000       8.600000   \n",
       "75%         4.100000       0.600000     235.100000      12.300000   \n",
       "max        26.600000       4.200000     360.000000      99.400000   \n",
       "\n",
       "                  BP       Cleaning  Precipitation          TModA  \\\n",
       "count  525600.000000  525600.000000  525600.000000  525600.000000   \n",
       "mean      994.197199       0.000923       0.001905      35.246026   \n",
       "std         2.474993       0.030363       0.037115      14.807258   \n",
       "min       985.000000       0.000000       0.000000       9.000000   \n",
       "25%       993.000000       0.000000       0.000000      24.200000   \n",
       "50%       994.000000       0.000000       0.000000      30.000000   \n",
       "75%       996.000000       0.000000       0.000000      46.900000   \n",
       "max      1003.000000       1.000000       2.500000      81.000000   \n",
       "\n",
       "               TModB  Comments  \n",
       "count  525600.000000       0.0  \n",
       "mean       32.471736       NaN  \n",
       "std        12.348743       NaN  \n",
       "min         8.100000       NaN  \n",
       "25%        23.600000       NaN  \n",
       "50%        28.900000       NaN  \n",
       "75%        41.500000       NaN  \n",
       "max        72.500000       NaN  "
      ]
     },
     "execution_count": 99,
     "metadata": {},
     "output_type": "execute_result"
    }
   ],
   "source": [
    "df.describe()"
   ]
  },
  {
   "cell_type": "markdown",
   "id": "ca0a2d51",
   "metadata": {},
   "source": [
    "#To see the data types of the column "
   ]
  },
  {
   "cell_type": "code",
   "execution_count": 102,
   "id": "8610a038",
   "metadata": {},
   "outputs": [
    {
     "data": {
      "text/plain": [
       "Timestamp         object\n",
       "GHI              float64\n",
       "DNI              float64\n",
       "DHI              float64\n",
       "ModA             float64\n",
       "ModB             float64\n",
       "Tamb             float64\n",
       "RH               float64\n",
       "WS               float64\n",
       "WSgust           float64\n",
       "WSstdev          float64\n",
       "WD               float64\n",
       "WDstdev          float64\n",
       "BP                 int64\n",
       "Cleaning           int64\n",
       "Precipitation    float64\n",
       "TModA            float64\n",
       "TModB            float64\n",
       "Comments         float64\n",
       "dtype: object"
      ]
     },
     "execution_count": 102,
     "metadata": {},
     "output_type": "execute_result"
    }
   ],
   "source": [
    "df.dtypes"
   ]
  },
  {
   "cell_type": "code",
   "execution_count": 103,
   "id": "3cf78431",
   "metadata": {},
   "outputs": [],
   "source": [
    "# Convert 'Timestamp' column to datetime format\n",
    "df['Timestamp'] = pd.to_datetime(df['Timestamp'])"
   ]
  },
  {
   "cell_type": "code",
   "execution_count": 104,
   "id": "31bbec6a",
   "metadata": {},
   "outputs": [
    {
     "data": {
      "text/plain": [
       "Timestamp        datetime64[ns]\n",
       "GHI                     float64\n",
       "DNI                     float64\n",
       "DHI                     float64\n",
       "ModA                    float64\n",
       "ModB                    float64\n",
       "Tamb                    float64\n",
       "RH                      float64\n",
       "WS                      float64\n",
       "WSgust                  float64\n",
       "WSstdev                 float64\n",
       "WD                      float64\n",
       "WDstdev                 float64\n",
       "BP                        int64\n",
       "Cleaning                  int64\n",
       "Precipitation           float64\n",
       "TModA                   float64\n",
       "TModB                   float64\n",
       "Comments                float64\n",
       "dtype: object"
      ]
     },
     "execution_count": 104,
     "metadata": {},
     "output_type": "execute_result"
    }
   ],
   "source": [
    "df.dtypes\n"
   ]
  },
  {
   "cell_type": "code",
   "execution_count": null,
   "id": "0c884ac1",
   "metadata": {},
   "outputs": [],
   "source": [
    "# Find columns with more than 5% missing data using the missing_report DataFrame\n"
   ]
  },
  {
   "cell_type": "code",
   "execution_count": 107,
   "id": "d7364482",
   "metadata": {},
   "outputs": [
    {
     "name": "stdout",
     "output_type": "stream",
     "text": [
      "               Missing Count  Missing %\n",
      "Timestamp                  0        0.0\n",
      "GHI                        0        0.0\n",
      "DNI                        0        0.0\n",
      "DHI                        0        0.0\n",
      "ModA                       0        0.0\n",
      "ModB                       0        0.0\n",
      "Tamb                       0        0.0\n",
      "RH                         0        0.0\n",
      "WS                         0        0.0\n",
      "WSgust                     0        0.0\n",
      "WSstdev                    0        0.0\n",
      "WD                         0        0.0\n",
      "WDstdev                    0        0.0\n",
      "BP                         0        0.0\n",
      "Cleaning                   0        0.0\n",
      "Precipitation              0        0.0\n",
      "TModA                      0        0.0\n",
      "TModB                      0        0.0\n",
      "Comments              525600      100.0\n"
     ]
    }
   ],
   "source": [
    "missing_counts = df.isna().sum()\n",
    "missing_percent = (df.isna().mean() * 100).round(2)\n",
    "\n",
    "missing_report = pd.DataFrame({\n",
    "    'Missing Count': missing_counts,\n",
    "    'Missing %': missing_percent\n",
    "})\n",
    "\n",
    "print(missing_report)\n"
   ]
  },
  {
   "cell_type": "code",
   "execution_count": 108,
   "id": "bb5b98d4",
   "metadata": {},
   "outputs": [
    {
     "name": "stdout",
     "output_type": "stream",
     "text": [
      "Columns with more than 5 percent missing values:\n",
      "          Missing Count  Missing %\n",
      "Comments         525600      100.0\n"
     ]
    }
   ],
   "source": [
    "\n",
    "#To find  columns with more than 5% missing values, we can filter the `missing_report` DataFrame.\n",
    "\n",
    "# We can use the above missing report to find columns with more than 5% missing values.\n",
    "\n",
    "high_missing = missing_report[missing_report['Missing %'] > 5]\n",
    "\n",
    "# print the columns with more than 5% missing values\n",
    "print(\"Columns with more than 5 percent missing values:\")\n",
    "print(high_missing)\n"
   ]
  },
  {
   "cell_type": "code",
   "execution_count": 109,
   "id": "cc8f2ed8",
   "metadata": {
    "vscode": {
     "languageId": "markdown"
    }
   },
   "outputs": [],
   "source": [
    "# The 'Comments' column has 100% missing values, as shown in the missing_report DataFrame.\n",
    "# This means it contains no useful information for our analysis and can be safely removed from the dataset.\n",
    "\n",
    "df = df.drop(columns=['Comments'])"
   ]
  },
  {
   "cell_type": "code",
   "execution_count": 110,
   "id": "66f82c9d",
   "metadata": {
    "vscode": {
     "languageId": "markdown"
    }
   },
   "outputs": [
    {
     "name": "stdout",
     "output_type": "stream",
     "text": [
      "Index(['Timestamp', 'GHI', 'DNI', 'DHI', 'ModA', 'ModB', 'Tamb', 'RH', 'WS',\n",
      "       'WSgust', 'WSstdev', 'WD', 'WDstdev', 'BP', 'Cleaning', 'Precipitation',\n",
      "       'TModA', 'TModB'],\n",
      "      dtype='object')\n"
     ]
    }
   ],
   "source": [
    "# we can see the Comments column is not there anymore\n",
    "print(df.columns)\n",
    "\n"
   ]
  },
  {
   "cell_type": "code",
   "execution_count": 111,
   "id": "024502e0",
   "metadata": {},
   "outputs": [
    {
     "name": "stdout",
     "output_type": "stream",
     "text": [
      "0\n"
     ]
    }
   ],
   "source": [
    "# Check for duplicates\n",
    "print(df.duplicated().sum())"
   ]
  },
  {
   "cell_type": "markdown",
   "id": "6d2772f6",
   "metadata": {},
   "source": [
    "●\tOutlier Detection & Basic Cleaning"
   ]
  },
  {
   "cell_type": "code",
   "execution_count": 112,
   "id": "a9a2fae8",
   "metadata": {},
   "outputs": [
    {
     "name": "stdout",
     "output_type": "stream",
     "text": [
      "Index(['GHI', 'DNI', 'DHI', 'ModA', 'ModB', 'Tamb', 'RH', 'WS', 'WSgust',\n",
      "       'WSstdev', 'WD', 'WDstdev', 'BP', 'Cleaning', 'Precipitation', 'TModA',\n",
      "       'TModB'],\n",
      "      dtype='object')\n"
     ]
    }
   ],
   "source": [
    "print(numeric_cols)"
   ]
  },
  {
   "cell_type": "code",
   "execution_count": 113,
   "id": "3dc6daf6",
   "metadata": {},
   "outputs": [
    {
     "name": "stdout",
     "output_type": "stream",
     "text": [
      "['GHI', 'DNI', 'DHI', 'ModA', 'ModB', 'WS', 'WSgust']\n"
     ]
    }
   ],
   "source": [
    "Target_Column = ['GHI', 'DNI', 'DHI', 'ModA', 'ModB', 'WS', 'WSgust']\n",
    "print(Target_Column)"
   ]
  },
  {
   "cell_type": "code",
   "execution_count": 114,
   "id": "fd942aa7",
   "metadata": {},
   "outputs": [
    {
     "data": {
      "text/html": [
       "<div>\n",
       "<style scoped>\n",
       "    .dataframe tbody tr th:only-of-type {\n",
       "        vertical-align: middle;\n",
       "    }\n",
       "\n",
       "    .dataframe tbody tr th {\n",
       "        vertical-align: top;\n",
       "    }\n",
       "\n",
       "    .dataframe thead th {\n",
       "        text-align: right;\n",
       "    }\n",
       "</style>\n",
       "<table border=\"1\" class=\"dataframe\">\n",
       "  <thead>\n",
       "    <tr style=\"text-align: right;\">\n",
       "      <th></th>\n",
       "      <th>GHI</th>\n",
       "      <th>DNI</th>\n",
       "      <th>DHI</th>\n",
       "      <th>ModA</th>\n",
       "      <th>ModB</th>\n",
       "      <th>WS</th>\n",
       "      <th>WSgust</th>\n",
       "    </tr>\n",
       "  </thead>\n",
       "  <tbody>\n",
       "    <tr>\n",
       "      <th>count</th>\n",
       "      <td>525600.000000</td>\n",
       "      <td>525600.000000</td>\n",
       "      <td>525600.000000</td>\n",
       "      <td>525600.000000</td>\n",
       "      <td>525600.000000</td>\n",
       "      <td>525600.000000</td>\n",
       "      <td>525600.000000</td>\n",
       "    </tr>\n",
       "    <tr>\n",
       "      <th>mean</th>\n",
       "      <td>240.559452</td>\n",
       "      <td>167.187516</td>\n",
       "      <td>115.358961</td>\n",
       "      <td>236.589496</td>\n",
       "      <td>228.883576</td>\n",
       "      <td>2.121113</td>\n",
       "      <td>2.809195</td>\n",
       "    </tr>\n",
       "    <tr>\n",
       "      <th>std</th>\n",
       "      <td>331.131327</td>\n",
       "      <td>261.710501</td>\n",
       "      <td>158.691074</td>\n",
       "      <td>326.894859</td>\n",
       "      <td>316.536515</td>\n",
       "      <td>1.603466</td>\n",
       "      <td>2.029120</td>\n",
       "    </tr>\n",
       "    <tr>\n",
       "      <th>min</th>\n",
       "      <td>-12.900000</td>\n",
       "      <td>-7.800000</td>\n",
       "      <td>-12.600000</td>\n",
       "      <td>0.000000</td>\n",
       "      <td>0.000000</td>\n",
       "      <td>0.000000</td>\n",
       "      <td>0.000000</td>\n",
       "    </tr>\n",
       "    <tr>\n",
       "      <th>25%</th>\n",
       "      <td>-2.000000</td>\n",
       "      <td>-0.500000</td>\n",
       "      <td>-2.100000</td>\n",
       "      <td>0.000000</td>\n",
       "      <td>0.000000</td>\n",
       "      <td>1.000000</td>\n",
       "      <td>1.300000</td>\n",
       "    </tr>\n",
       "    <tr>\n",
       "      <th>50%</th>\n",
       "      <td>1.800000</td>\n",
       "      <td>-0.100000</td>\n",
       "      <td>1.600000</td>\n",
       "      <td>4.500000</td>\n",
       "      <td>4.300000</td>\n",
       "      <td>1.900000</td>\n",
       "      <td>2.600000</td>\n",
       "    </tr>\n",
       "    <tr>\n",
       "      <th>75%</th>\n",
       "      <td>483.400000</td>\n",
       "      <td>314.200000</td>\n",
       "      <td>216.300000</td>\n",
       "      <td>463.700000</td>\n",
       "      <td>447.900000</td>\n",
       "      <td>3.100000</td>\n",
       "      <td>4.100000</td>\n",
       "    </tr>\n",
       "    <tr>\n",
       "      <th>max</th>\n",
       "      <td>1413.000000</td>\n",
       "      <td>952.300000</td>\n",
       "      <td>759.200000</td>\n",
       "      <td>1342.300000</td>\n",
       "      <td>1342.300000</td>\n",
       "      <td>19.500000</td>\n",
       "      <td>26.600000</td>\n",
       "    </tr>\n",
       "  </tbody>\n",
       "</table>\n",
       "</div>"
      ],
      "text/plain": [
       "                 GHI            DNI            DHI           ModA  \\\n",
       "count  525600.000000  525600.000000  525600.000000  525600.000000   \n",
       "mean      240.559452     167.187516     115.358961     236.589496   \n",
       "std       331.131327     261.710501     158.691074     326.894859   \n",
       "min       -12.900000      -7.800000     -12.600000       0.000000   \n",
       "25%        -2.000000      -0.500000      -2.100000       0.000000   \n",
       "50%         1.800000      -0.100000       1.600000       4.500000   \n",
       "75%       483.400000     314.200000     216.300000     463.700000   \n",
       "max      1413.000000     952.300000     759.200000    1342.300000   \n",
       "\n",
       "                ModB             WS         WSgust  \n",
       "count  525600.000000  525600.000000  525600.000000  \n",
       "mean      228.883576       2.121113       2.809195  \n",
       "std       316.536515       1.603466       2.029120  \n",
       "min         0.000000       0.000000       0.000000  \n",
       "25%         0.000000       1.000000       1.300000  \n",
       "50%         4.300000       1.900000       2.600000  \n",
       "75%       447.900000       3.100000       4.100000  \n",
       "max      1342.300000      19.500000      26.600000  "
      ]
     },
     "execution_count": 114,
     "metadata": {},
     "output_type": "execute_result"
    }
   ],
   "source": [
    "df[Target_Column].describe()"
   ]
  },
  {
   "cell_type": "markdown",
   "id": "9077d7d0",
   "metadata": {},
   "source": [
    "#GHI, DNI and DHI has a negative value in them so we cann't have a negative value of those sensors ,negative means they are giving radiation so we have to remove them "
   ]
  },
  {
   "cell_type": "code",
   "execution_count": 115,
   "id": "f20a434d",
   "metadata": {},
   "outputs": [
    {
     "name": "stdout",
     "output_type": "stream",
     "text": [
      "\n",
      "After fixing:\n",
      "                 GHI            DNI            DHI\n",
      "count  525600.000000  525600.000000  525600.000000\n",
      "mean      241.958821     167.441866     116.993033\n",
      "std       330.101787     261.547532     157.463619\n",
      "min         0.000000       0.000000       0.000000\n",
      "25%         0.000000       0.000000       0.000000\n",
      "50%         1.800000       0.000000       1.600000\n",
      "75%       483.400000     314.200000     216.300000\n",
      "max      1413.000000     952.300000     759.200000\n"
     ]
    }
   ],
   "source": [
    "df[cols_to_fix] = df[cols_to_fix].clip(lower=0)\n",
    "\n",
    "print(\"\\nAfter fixing:\")\n",
    "print(df[cols_to_fix].describe())"
   ]
  },
  {
   "cell_type": "markdown",
   "id": "98941785",
   "metadata": {},
   "source": [
    ".ploting the boxplot for the tareted columns "
   ]
  },
  {
   "cell_type": "code",
   "execution_count": 116,
   "id": "02ed36e2",
   "metadata": {},
   "outputs": [
    {
     "data": {
      "image/png": "[encoded data removed]",
      "text/plain": [
       "<Figure size 1400x800 with 7 Axes>"
      ]
     },
     "metadata": {},
     "output_type": "display_data"
    }
   ],
   "source": [
    "\n",
    "plt.figure(figsize=(14, 8))\n",
    "for i, col in enumerate(Target_Column):\n",
    "    plt.subplot(2, 4, i + 1)\n",
    "    sns.boxplot(y=df[col])\n",
    "    plt.title(col, fontsize=10)\n",
    "plt.tight_layout()\n",
    "plt.show()"
   ]
  },
  {
   "cell_type": "markdown",
   "id": "b5752b10",
   "metadata": {},
   "source": [
    ".zscore to remove the outliers "
   ]
  },
  {
   "cell_type": "code",
   "execution_count": 117,
   "id": "7f6b4b13",
   "metadata": {},
   "outputs": [
    {
     "name": "stdout",
     "output_type": "stream",
     "text": [
      "Original rows: 525600\n",
      "Rows after outlier removal: 517707\n"
     ]
    }
   ],
   "source": [
    "# Compute Z-scores\n",
    "zscores = np.abs(stats.zscore(df[Target_Column]))\n",
    "\n",
    "# Mask for rows with all Z-scores <= 3 (i.e., no outliers)\n",
    "no_outliers_mask = (zscores <= 3).all(axis=1)\n",
    "\n",
    "# Apply the mask to get cleaned data\n",
    "df_clean = df[no_outliers_mask]\n",
    "\n",
    "# Compare before and after\n",
    "print(\"Original rows:\", df.shape[0])\n",
    "print(\"Rows after outlier removal:\", df_clean.shape[0])"
   ]
  },
  {
   "cell_type": "code",
   "execution_count": 118,
   "id": "c1690493",
   "metadata": {},
   "outputs": [
    {
     "name": "stdout",
     "output_type": "stream",
     "text": [
      "Cleaned data saved to: C:\\Users\\User\\Desktop\\Week_0\\Moonlight-Solar-Farm-Analysis\\Data\\benin_clean.csv\n"
     ]
    }
   ],
   "source": [
    "# Export cleaned data to CSV\n",
    "output_path = r\"C:\\Users\\User\\Desktop\\Week_0\\Moonlight-Solar-Farm-Analysis\\Data\\benin_clean.csv\"\n",
    "df_clean.to_csv(output_path, index=False)\n",
    "\n",
    "print(f\"Cleaned data saved to: {output_path}\")"
   ]
  },
  {
   "cell_type": "markdown",
   "id": "db34d26b",
   "metadata": {},
   "source": [
    "#box plot after cleanup "
   ]
  },
  {
   "cell_type": "code",
   "execution_count": 119,
   "id": "6fedc862",
   "metadata": {},
   "outputs": [
    {
     "data": {
      "image/png": "[encoded data removed]",
      "text/plain": [
       "<Figure size 1400x800 with 7 Axes>"
      ]
     },
     "metadata": {},
     "output_type": "display_data"
    }
   ],
   "source": [
    "plt.figure(figsize=(14, 8))\n",
    "for i, col in enumerate(Target_Column):\n",
    "    plt.subplot(2, 4, i + 1)\n",
    "    sns.boxplot(y=df_clean[col])\n",
    "    plt.title(f\"{col} (Cleaned)\", fontsize=10)\n",
    "plt.tight_layout()\n",
    "plt.show()"
   ]
  },
  {
   "cell_type": "markdown",
   "id": "bc0ddd9e",
   "metadata": {},
   "source": [
    ".Time series analyses "
   ]
  },
  {
   "cell_type": "code",
   "execution_count": 120,
   "id": "cd130f40",
   "metadata": {},
   "outputs": [],
   "source": [
    "# Optional: Sort by time\n",
    "df = df.sort_values('Timestamp')\n",
    "\n",
    "# Set as index (makes time series plotting easier)\n",
    "df.set_index('Timestamp', inplace=True)"
   ]
  }
 ],
 "metadata": {
  "kernelspec": {
   "display_name": ".venv",
   "language": "python",
   "name": "python3"
  },
  "language_info": {
   "codemirror_mode": {
    "name": "ipython",
    "version": 3
   },
   "file_extension": ".py",
   "mimetype": "text/x-python",
   "name": "python",
   "nbconvert_exporter": "python",
   "pygments_lexer": "ipython3",
   "version": "3.13.3"
  }
 },
 "nbformat": 4,
 "nbformat_minor": 5
}
