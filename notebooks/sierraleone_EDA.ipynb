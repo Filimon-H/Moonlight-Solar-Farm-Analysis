{
 "cells": [
  {
   "cell_type": "code",
   "execution_count": 1,
   "id": "4ce24a80",
   "metadata": {},
   "outputs": [],
   "source": [
    "import pandas as pd\n",
    "import matplotlib.pyplot as plt\n",
    "import seaborn as sns\n",
    "from scipy import stats\n",
    "import numpy as np"
   ]
  },
  {
   "cell_type": "code",
   "execution_count": 2,
   "id": "8aaed849",
   "metadata": {},
   "outputs": [],
   "source": [
    "df = pd.read_csv(\"C:/Users/User/Downloads/week 0/data/sierraleone-bumbuna.csv\")"
   ]
  },
  {
   "cell_type": "code",
   "execution_count": null,
   "id": "fa4855d7",
   "metadata": {},
   "outputs": [],
   "source": [
    ".●\tSummary Statistics & Missing-Value Report"
   ]
  },
  {
   "cell_type": "code",
   "execution_count": 3,
   "id": "c299c55a",
   "metadata": {},
   "outputs": [
    {
     "name": "stdout",
     "output_type": "stream",
     "text": [
      "          Timestamp  GHI  DNI  DHI  ModA  ModB  Tamb    RH   WS  WSgust  \\\n",
      "0  2021-10-30 00:01 -0.7 -0.1 -0.8   0.0   0.0  21.9  99.1  0.0     0.0   \n",
      "1  2021-10-30 00:02 -0.7 -0.1 -0.8   0.0   0.0  21.9  99.2  0.0     0.0   \n",
      "2  2021-10-30 00:03 -0.7 -0.1 -0.8   0.0   0.0  21.9  99.2  0.0     0.0   \n",
      "3  2021-10-30 00:04 -0.7  0.0 -0.8   0.0   0.0  21.9  99.3  0.0     0.0   \n",
      "4  2021-10-30 00:05 -0.7 -0.1 -0.8   0.0   0.0  21.9  99.3  0.0     0.0   \n",
      "5  2021-10-30 00:06 -0.7 -0.1 -0.8   0.0   0.0  21.9  99.3  0.0     0.0   \n",
      "6  2021-10-30 00:07 -0.7  0.0 -0.8   0.0   0.0  22.0  99.4  0.1     0.7   \n",
      "7  2021-10-30 00:08 -0.7  0.0 -0.8   0.0   0.0  22.0  99.5  0.2     0.7   \n",
      "8  2021-10-30 00:09 -0.7 -0.1 -0.8   0.0   0.0  22.0  99.5  0.7     1.1   \n",
      "9  2021-10-30 00:10 -0.7 -0.1 -0.8   0.0   0.0  21.9  99.2  0.6     1.1   \n",
      "\n",
      "   WSstdev     WD  WDstdev    BP  Cleaning  Precipitation  TModA  TModB  \\\n",
      "0      0.0    0.0      0.0  1002         0            0.0   22.3   22.6   \n",
      "1      0.0    0.0      0.0  1002         0            0.0   22.3   22.6   \n",
      "2      0.0    0.0      0.0  1002         0            0.0   22.3   22.6   \n",
      "3      0.0    0.0      0.0  1002         0            0.1   22.3   22.6   \n",
      "4      0.0    0.0      0.0  1002         0            0.0   22.3   22.6   \n",
      "5      0.0    0.0      0.0  1002         0            0.0   22.3   22.7   \n",
      "6      0.2  240.4      0.0  1002         0            0.0   22.3   22.7   \n",
      "7      0.4  233.5      1.6  1002         0            0.0   22.4   22.7   \n",
      "8      0.5  232.0      0.3  1002         0            0.0   22.4   22.7   \n",
      "9      0.5  232.5      0.3  1002         0            0.0   22.4   22.7   \n",
      "\n",
      "   Comments  \n",
      "0       NaN  \n",
      "1       NaN  \n",
      "2       NaN  \n",
      "3       NaN  \n",
      "4       NaN  \n",
      "5       NaN  \n",
      "6       NaN  \n",
      "7       NaN  \n",
      "8       NaN  \n",
      "9       NaN  \n"
     ]
    }
   ],
   "source": [
    "print(df.head(10))"
   ]
  },
  {
   "cell_type": "code",
   "execution_count": 4,
   "id": "5283c477",
   "metadata": {},
   "outputs": [
    {
     "name": "stdout",
     "output_type": "stream",
     "text": [
      "               Timestamp  GHI  DNI  DHI  ModA  ModB  Tamb     RH   WS  WSgust  \\\n",
      "525590  2022-10-29 23:51 -1.2 -0.1 -2.3   0.0   0.0  24.0  100.0  0.0     0.0   \n",
      "525591  2022-10-29 23:52 -1.2 -0.1 -2.3   0.0   0.0  24.0  100.0  0.0     0.0   \n",
      "525592  2022-10-29 23:53 -1.3 -0.1 -2.4   0.0   0.0  24.0  100.0  0.0     0.0   \n",
      "525593  2022-10-29 23:54 -1.4 -0.1 -2.5   0.0   0.0  24.0  100.0  0.0     0.0   \n",
      "525594  2022-10-29 23:55 -1.5 -0.1 -2.7   0.0   0.0  24.0  100.0  0.0     0.0   \n",
      "525595  2022-10-29 23:56 -1.6 -0.1 -2.9   0.0   0.0  24.0  100.0  0.0     0.0   \n",
      "525596  2022-10-29 23:57 -1.7 -0.1 -3.0   0.0   0.0  24.0  100.0  0.0     0.0   \n",
      "525597  2022-10-29 23:58 -1.7 -0.1 -3.1   0.0   0.0  24.0  100.0  0.0     0.0   \n",
      "525598  2022-10-29 23:59 -1.7 -0.2 -3.3   0.0   0.0  23.9  100.0  0.0     0.0   \n",
      "525599  2022-10-30 00:00 -1.7 -0.1 -3.4   0.0   0.0  23.9  100.0  0.0     0.0   \n",
      "\n",
      "        WSstdev   WD  WDstdev    BP  Cleaning  Precipitation  TModA  TModB  \\\n",
      "525590      0.0  0.0      0.0  1000         0            0.0   24.3   24.6   \n",
      "525591      0.0  0.0      0.0  1000         0            0.0   24.3   24.6   \n",
      "525592      0.0  0.0      0.0  1000         0            0.0   24.3   24.6   \n",
      "525593      0.0  0.0      0.0  1000         0            0.0   24.2   24.6   \n",
      "525594      0.0  0.0      0.0  1000         0            0.0   24.2   24.5   \n",
      "525595      0.0  0.0      0.0   999         0            0.0   24.2   24.5   \n",
      "525596      0.0  0.0      0.0   999         0            0.0   24.2   24.5   \n",
      "525597      0.0  0.0      0.0  1000         0            0.0   24.1   24.4   \n",
      "525598      0.0  0.0      0.0  1000         0            0.0   24.1   24.4   \n",
      "525599      0.0  0.0      0.0  1000         0            0.0   24.1   24.4   \n",
      "\n",
      "        Comments  \n",
      "525590       NaN  \n",
      "525591       NaN  \n",
      "525592       NaN  \n",
      "525593       NaN  \n",
      "525594       NaN  \n",
      "525595       NaN  \n",
      "525596       NaN  \n",
      "525597       NaN  \n",
      "525598       NaN  \n",
      "525599       NaN  \n"
     ]
    }
   ],
   "source": [
    "print(df.tail(10))"
   ]
  },
  {
   "cell_type": "code",
   "execution_count": 5,
   "id": "846486d4",
   "metadata": {},
   "outputs": [
    {
     "data": {
      "text/html": [
       "<div>\n",
       "<style scoped>\n",
       "    .dataframe tbody tr th:only-of-type {\n",
       "        vertical-align: middle;\n",
       "    }\n",
       "\n",
       "    .dataframe tbody tr th {\n",
       "        vertical-align: top;\n",
       "    }\n",
       "\n",
       "    .dataframe thead th {\n",
       "        text-align: right;\n",
       "    }\n",
       "</style>\n",
       "<table border=\"1\" class=\"dataframe\">\n",
       "  <thead>\n",
       "    <tr style=\"text-align: right;\">\n",
       "      <th></th>\n",
       "      <th>GHI</th>\n",
       "      <th>DNI</th>\n",
       "      <th>DHI</th>\n",
       "      <th>ModA</th>\n",
       "      <th>ModB</th>\n",
       "      <th>Tamb</th>\n",
       "      <th>RH</th>\n",
       "      <th>WS</th>\n",
       "      <th>WSgust</th>\n",
       "      <th>WSstdev</th>\n",
       "      <th>WD</th>\n",
       "      <th>WDstdev</th>\n",
       "      <th>BP</th>\n",
       "      <th>Cleaning</th>\n",
       "      <th>Precipitation</th>\n",
       "      <th>TModA</th>\n",
       "      <th>TModB</th>\n",
       "      <th>Comments</th>\n",
       "    </tr>\n",
       "  </thead>\n",
       "  <tbody>\n",
       "    <tr>\n",
       "      <th>count</th>\n",
       "      <td>525600.000000</td>\n",
       "      <td>525600.000000</td>\n",
       "      <td>525600.000000</td>\n",
       "      <td>525600.000000</td>\n",
       "      <td>525600.000000</td>\n",
       "      <td>525600.000000</td>\n",
       "      <td>525600.000000</td>\n",
       "      <td>525600.000000</td>\n",
       "      <td>525600.000000</td>\n",
       "      <td>525600.000000</td>\n",
       "      <td>525600.000000</td>\n",
       "      <td>525600.000000</td>\n",
       "      <td>525600.000000</td>\n",
       "      <td>525600.000000</td>\n",
       "      <td>525600.000000</td>\n",
       "      <td>525600.000000</td>\n",
       "      <td>525600.000000</td>\n",
       "      <td>0.0</td>\n",
       "    </tr>\n",
       "    <tr>\n",
       "      <th>mean</th>\n",
       "      <td>201.957515</td>\n",
       "      <td>116.376337</td>\n",
       "      <td>113.720571</td>\n",
       "      <td>206.643095</td>\n",
       "      <td>198.114691</td>\n",
       "      <td>26.319394</td>\n",
       "      <td>79.448857</td>\n",
       "      <td>1.146113</td>\n",
       "      <td>1.691606</td>\n",
       "      <td>0.363823</td>\n",
       "      <td>133.044668</td>\n",
       "      <td>7.172220</td>\n",
       "      <td>999.876469</td>\n",
       "      <td>0.000967</td>\n",
       "      <td>0.004806</td>\n",
       "      <td>32.504263</td>\n",
       "      <td>32.593091</td>\n",
       "      <td>NaN</td>\n",
       "    </tr>\n",
       "    <tr>\n",
       "      <th>std</th>\n",
       "      <td>298.495150</td>\n",
       "      <td>218.652659</td>\n",
       "      <td>158.946032</td>\n",
       "      <td>300.896893</td>\n",
       "      <td>288.889073</td>\n",
       "      <td>4.398605</td>\n",
       "      <td>20.520775</td>\n",
       "      <td>1.239248</td>\n",
       "      <td>1.617053</td>\n",
       "      <td>0.295000</td>\n",
       "      <td>114.284792</td>\n",
       "      <td>7.535093</td>\n",
       "      <td>2.104419</td>\n",
       "      <td>0.031074</td>\n",
       "      <td>0.047556</td>\n",
       "      <td>12.434899</td>\n",
       "      <td>12.009161</td>\n",
       "      <td>NaN</td>\n",
       "    </tr>\n",
       "    <tr>\n",
       "      <th>min</th>\n",
       "      <td>-19.500000</td>\n",
       "      <td>-7.800000</td>\n",
       "      <td>-17.900000</td>\n",
       "      <td>0.000000</td>\n",
       "      <td>0.000000</td>\n",
       "      <td>12.300000</td>\n",
       "      <td>9.900000</td>\n",
       "      <td>0.000000</td>\n",
       "      <td>0.000000</td>\n",
       "      <td>0.000000</td>\n",
       "      <td>0.000000</td>\n",
       "      <td>0.000000</td>\n",
       "      <td>993.000000</td>\n",
       "      <td>0.000000</td>\n",
       "      <td>0.000000</td>\n",
       "      <td>10.700000</td>\n",
       "      <td>11.100000</td>\n",
       "      <td>NaN</td>\n",
       "    </tr>\n",
       "    <tr>\n",
       "      <th>25%</th>\n",
       "      <td>-2.800000</td>\n",
       "      <td>-0.300000</td>\n",
       "      <td>-3.800000</td>\n",
       "      <td>0.000000</td>\n",
       "      <td>0.000000</td>\n",
       "      <td>23.100000</td>\n",
       "      <td>68.700000</td>\n",
       "      <td>0.000000</td>\n",
       "      <td>0.000000</td>\n",
       "      <td>0.000000</td>\n",
       "      <td>0.000000</td>\n",
       "      <td>0.000000</td>\n",
       "      <td>999.000000</td>\n",
       "      <td>0.000000</td>\n",
       "      <td>0.000000</td>\n",
       "      <td>23.500000</td>\n",
       "      <td>23.800000</td>\n",
       "      <td>NaN</td>\n",
       "    </tr>\n",
       "    <tr>\n",
       "      <th>50%</th>\n",
       "      <td>0.300000</td>\n",
       "      <td>-0.100000</td>\n",
       "      <td>-0.100000</td>\n",
       "      <td>3.600000</td>\n",
       "      <td>3.400000</td>\n",
       "      <td>25.300000</td>\n",
       "      <td>85.400000</td>\n",
       "      <td>0.800000</td>\n",
       "      <td>1.600000</td>\n",
       "      <td>0.400000</td>\n",
       "      <td>161.500000</td>\n",
       "      <td>6.200000</td>\n",
       "      <td>1000.000000</td>\n",
       "      <td>0.000000</td>\n",
       "      <td>0.000000</td>\n",
       "      <td>26.600000</td>\n",
       "      <td>26.900000</td>\n",
       "      <td>NaN</td>\n",
       "    </tr>\n",
       "    <tr>\n",
       "      <th>75%</th>\n",
       "      <td>362.400000</td>\n",
       "      <td>107.000000</td>\n",
       "      <td>224.700000</td>\n",
       "      <td>359.500000</td>\n",
       "      <td>345.400000</td>\n",
       "      <td>29.400000</td>\n",
       "      <td>96.700000</td>\n",
       "      <td>2.000000</td>\n",
       "      <td>2.600000</td>\n",
       "      <td>0.600000</td>\n",
       "      <td>234.100000</td>\n",
       "      <td>12.000000</td>\n",
       "      <td>1001.000000</td>\n",
       "      <td>0.000000</td>\n",
       "      <td>0.000000</td>\n",
       "      <td>40.900000</td>\n",
       "      <td>41.300000</td>\n",
       "      <td>NaN</td>\n",
       "    </tr>\n",
       "    <tr>\n",
       "      <th>max</th>\n",
       "      <td>1499.000000</td>\n",
       "      <td>946.000000</td>\n",
       "      <td>892.000000</td>\n",
       "      <td>1507.000000</td>\n",
       "      <td>1473.000000</td>\n",
       "      <td>39.900000</td>\n",
       "      <td>100.000000</td>\n",
       "      <td>19.200000</td>\n",
       "      <td>23.900000</td>\n",
       "      <td>4.100000</td>\n",
       "      <td>360.000000</td>\n",
       "      <td>98.400000</td>\n",
       "      <td>1006.000000</td>\n",
       "      <td>1.000000</td>\n",
       "      <td>2.400000</td>\n",
       "      <td>72.800000</td>\n",
       "      <td>70.400000</td>\n",
       "      <td>NaN</td>\n",
       "    </tr>\n",
       "  </tbody>\n",
       "</table>\n",
       "</div>"
      ],
      "text/plain": [
       "                 GHI            DNI            DHI           ModA  \\\n",
       "count  525600.000000  525600.000000  525600.000000  525600.000000   \n",
       "mean      201.957515     116.376337     113.720571     206.643095   \n",
       "std       298.495150     218.652659     158.946032     300.896893   \n",
       "min       -19.500000      -7.800000     -17.900000       0.000000   \n",
       "25%        -2.800000      -0.300000      -3.800000       0.000000   \n",
       "50%         0.300000      -0.100000      -0.100000       3.600000   \n",
       "75%       362.400000     107.000000     224.700000     359.500000   \n",
       "max      1499.000000     946.000000     892.000000    1507.000000   \n",
       "\n",
       "                ModB           Tamb             RH             WS  \\\n",
       "count  525600.000000  525600.000000  525600.000000  525600.000000   \n",
       "mean      198.114691      26.319394      79.448857       1.146113   \n",
       "std       288.889073       4.398605      20.520775       1.239248   \n",
       "min         0.000000      12.300000       9.900000       0.000000   \n",
       "25%         0.000000      23.100000      68.700000       0.000000   \n",
       "50%         3.400000      25.300000      85.400000       0.800000   \n",
       "75%       345.400000      29.400000      96.700000       2.000000   \n",
       "max      1473.000000      39.900000     100.000000      19.200000   \n",
       "\n",
       "              WSgust        WSstdev             WD        WDstdev  \\\n",
       "count  525600.000000  525600.000000  525600.000000  525600.000000   \n",
       "mean        1.691606       0.363823     133.044668       7.172220   \n",
       "std         1.617053       0.295000     114.284792       7.535093   \n",
       "min         0.000000       0.000000       0.000000       0.000000   \n",
       "25%         0.000000       0.000000       0.000000       0.000000   \n",
       "50%         1.600000       0.400000     161.500000       6.200000   \n",
       "75%         2.600000       0.600000     234.100000      12.000000   \n",
       "max        23.900000       4.100000     360.000000      98.400000   \n",
       "\n",
       "                  BP       Cleaning  Precipitation          TModA  \\\n",
       "count  525600.000000  525600.000000  525600.000000  525600.000000   \n",
       "mean      999.876469       0.000967       0.004806      32.504263   \n",
       "std         2.104419       0.031074       0.047556      12.434899   \n",
       "min       993.000000       0.000000       0.000000      10.700000   \n",
       "25%       999.000000       0.000000       0.000000      23.500000   \n",
       "50%      1000.000000       0.000000       0.000000      26.600000   \n",
       "75%      1001.000000       0.000000       0.000000      40.900000   \n",
       "max      1006.000000       1.000000       2.400000      72.800000   \n",
       "\n",
       "               TModB  Comments  \n",
       "count  525600.000000       0.0  \n",
       "mean       32.593091       NaN  \n",
       "std        12.009161       NaN  \n",
       "min        11.100000       NaN  \n",
       "25%        23.800000       NaN  \n",
       "50%        26.900000       NaN  \n",
       "75%        41.300000       NaN  \n",
       "max        70.400000       NaN  "
      ]
     },
     "execution_count": 5,
     "metadata": {},
     "output_type": "execute_result"
    }
   ],
   "source": [
    "df.describe()"
   ]
  },
  {
   "cell_type": "markdown",
   "id": "118bb0af",
   "metadata": {},
   "source": [
    "#To see the data types of the column "
   ]
  },
  {
   "cell_type": "code",
   "execution_count": 6,
   "id": "a6e8406d",
   "metadata": {},
   "outputs": [
    {
     "data": {
      "text/plain": [
       "Timestamp         object\n",
       "GHI              float64\n",
       "DNI              float64\n",
       "DHI              float64\n",
       "ModA             float64\n",
       "ModB             float64\n",
       "Tamb             float64\n",
       "RH               float64\n",
       "WS               float64\n",
       "WSgust           float64\n",
       "WSstdev          float64\n",
       "WD               float64\n",
       "WDstdev          float64\n",
       "BP                 int64\n",
       "Cleaning           int64\n",
       "Precipitation    float64\n",
       "TModA            float64\n",
       "TModB            float64\n",
       "Comments         float64\n",
       "dtype: object"
      ]
     },
     "execution_count": 6,
     "metadata": {},
     "output_type": "execute_result"
    }
   ],
   "source": [
    "df.dtypes"
   ]
  },
  {
   "cell_type": "code",
   "execution_count": 7,
   "id": "cf77c3e8",
   "metadata": {},
   "outputs": [],
   "source": [
    "# Convert 'Timestamp' column to datetime format\n",
    "df['Timestamp'] = pd.to_datetime(df['Timestamp'])"
   ]
  },
  {
   "cell_type": "code",
   "execution_count": 8,
   "id": "e2ee1d67",
   "metadata": {},
   "outputs": [
    {
     "data": {
      "text/plain": [
       "Timestamp        datetime64[ns]\n",
       "GHI                     float64\n",
       "DNI                     float64\n",
       "DHI                     float64\n",
       "ModA                    float64\n",
       "ModB                    float64\n",
       "Tamb                    float64\n",
       "RH                      float64\n",
       "WS                      float64\n",
       "WSgust                  float64\n",
       "WSstdev                 float64\n",
       "WD                      float64\n",
       "WDstdev                 float64\n",
       "BP                        int64\n",
       "Cleaning                  int64\n",
       "Precipitation           float64\n",
       "TModA                   float64\n",
       "TModB                   float64\n",
       "Comments                float64\n",
       "dtype: object"
      ]
     },
     "execution_count": 8,
     "metadata": {},
     "output_type": "execute_result"
    }
   ],
   "source": [
    "df.dtypes"
   ]
  },
  {
   "cell_type": "code",
   "execution_count": null,
   "id": "8e1b9f68",
   "metadata": {},
   "outputs": [],
   "source": [
    "# Find columns with more than 5% missing data using the missing_report DataFrame"
   ]
  },
  {
   "cell_type": "code",
   "execution_count": 9,
   "id": "1dd6fc02",
   "metadata": {},
   "outputs": [
    {
     "name": "stdout",
     "output_type": "stream",
     "text": [
      "               Missing Count  Missing %\n",
      "Timestamp                  0        0.0\n",
      "GHI                        0        0.0\n",
      "DNI                        0        0.0\n",
      "DHI                        0        0.0\n",
      "ModA                       0        0.0\n",
      "ModB                       0        0.0\n",
      "Tamb                       0        0.0\n",
      "RH                         0        0.0\n",
      "WS                         0        0.0\n",
      "WSgust                     0        0.0\n",
      "WSstdev                    0        0.0\n",
      "WD                         0        0.0\n",
      "WDstdev                    0        0.0\n",
      "BP                         0        0.0\n",
      "Cleaning                   0        0.0\n",
      "Precipitation              0        0.0\n",
      "TModA                      0        0.0\n",
      "TModB                      0        0.0\n",
      "Comments              525600      100.0\n"
     ]
    }
   ],
   "source": [
    "missing_counts = df.isna().sum()\n",
    "missing_percent = (df.isna().mean() * 100).round(2)\n",
    "\n",
    "missing_report = pd.DataFrame({\n",
    "    'Missing Count': missing_counts,\n",
    "    'Missing %': missing_percent\n",
    "})\n",
    "\n",
    "print(missing_report)"
   ]
  },
  {
   "cell_type": "code",
   "execution_count": 10,
   "id": "8f07a99c",
   "metadata": {},
   "outputs": [
    {
     "name": "stdout",
     "output_type": "stream",
     "text": [
      "Columns with more than 5 percent missing values:\n",
      "          Missing Count  Missing %\n",
      "Comments         525600      100.0\n"
     ]
    }
   ],
   "source": [
    "#To find  columns with more than 5% missing values, we can filter the `missing_report` DataFrame.\n",
    "\n",
    "# We can use the above missing report to find columns with more than 5% missing values.\n",
    "\n",
    "high_missing = missing_report[missing_report['Missing %'] > 5]\n",
    "\n",
    "# print the columns with more than 5% missing values\n",
    "print(\"Columns with more than 5 percent missing values:\")\n",
    "print(high_missing)"
   ]
  },
  {
   "cell_type": "code",
   "execution_count": 11,
   "id": "328d2347",
   "metadata": {},
   "outputs": [],
   "source": [
    "# The 'Comments' column has 100% missing values, as shown in the missing_report DataFrame.\n",
    "# This means it contains no useful information for our analysis and can be safely removed from the dataset.\n",
    "\n",
    "df = df.drop(columns=['Comments'])"
   ]
  },
  {
   "cell_type": "code",
   "execution_count": 12,
   "id": "8599cdab",
   "metadata": {},
   "outputs": [
    {
     "name": "stdout",
     "output_type": "stream",
     "text": [
      "Index(['Timestamp', 'GHI', 'DNI', 'DHI', 'ModA', 'ModB', 'Tamb', 'RH', 'WS',\n",
      "       'WSgust', 'WSstdev', 'WD', 'WDstdev', 'BP', 'Cleaning', 'Precipitation',\n",
      "       'TModA', 'TModB'],\n",
      "      dtype='object')\n"
     ]
    }
   ],
   "source": [
    "# we can see the Comments column is not there anymore\n",
    "print(df.columns)"
   ]
  },
  {
   "cell_type": "code",
   "execution_count": 13,
   "id": "ea7a9782",
   "metadata": {},
   "outputs": [
    {
     "name": "stdout",
     "output_type": "stream",
     "text": [
      "0\n"
     ]
    }
   ],
   "source": [
    "# Check for duplicates\n",
    "print(df.duplicated().sum())"
   ]
  },
  {
   "cell_type": "markdown",
   "id": "2218b93a",
   "metadata": {},
   "source": [
    "●\tOutlier Detection & Basic Cleanin"
   ]
  },
  {
   "cell_type": "code",
   "execution_count": 15,
   "id": "990a8967",
   "metadata": {},
   "outputs": [
    {
     "name": "stdout",
     "output_type": "stream",
     "text": [
      "['GHI', 'DNI', 'DHI', 'ModA', 'ModB', 'WS', 'WSgust']\n"
     ]
    }
   ],
   "source": [
    "Target_Column = ['GHI', 'DNI', 'DHI', 'ModA', 'ModB', 'WS', 'WSgust']\n",
    "print(Target_Column)"
   ]
  },
  {
   "cell_type": "code",
   "execution_count": 16,
   "id": "23e5e61f",
   "metadata": {},
   "outputs": [
    {
     "data": {
      "text/html": [
       "<div>\n",
       "<style scoped>\n",
       "    .dataframe tbody tr th:only-of-type {\n",
       "        vertical-align: middle;\n",
       "    }\n",
       "\n",
       "    .dataframe tbody tr th {\n",
       "        vertical-align: top;\n",
       "    }\n",
       "\n",
       "    .dataframe thead th {\n",
       "        text-align: right;\n",
       "    }\n",
       "</style>\n",
       "<table border=\"1\" class=\"dataframe\">\n",
       "  <thead>\n",
       "    <tr style=\"text-align: right;\">\n",
       "      <th></th>\n",
       "      <th>GHI</th>\n",
       "      <th>DNI</th>\n",
       "      <th>DHI</th>\n",
       "      <th>ModA</th>\n",
       "      <th>ModB</th>\n",
       "      <th>WS</th>\n",
       "      <th>WSgust</th>\n",
       "    </tr>\n",
       "  </thead>\n",
       "  <tbody>\n",
       "    <tr>\n",
       "      <th>count</th>\n",
       "      <td>525600.000000</td>\n",
       "      <td>525600.000000</td>\n",
       "      <td>525600.000000</td>\n",
       "      <td>525600.000000</td>\n",
       "      <td>525600.000000</td>\n",
       "      <td>525600.000000</td>\n",
       "      <td>525600.000000</td>\n",
       "    </tr>\n",
       "    <tr>\n",
       "      <th>mean</th>\n",
       "      <td>201.957515</td>\n",
       "      <td>116.376337</td>\n",
       "      <td>113.720571</td>\n",
       "      <td>206.643095</td>\n",
       "      <td>198.114691</td>\n",
       "      <td>1.146113</td>\n",
       "      <td>1.691606</td>\n",
       "    </tr>\n",
       "    <tr>\n",
       "      <th>std</th>\n",
       "      <td>298.495150</td>\n",
       "      <td>218.652659</td>\n",
       "      <td>158.946032</td>\n",
       "      <td>300.896893</td>\n",
       "      <td>288.889073</td>\n",
       "      <td>1.239248</td>\n",
       "      <td>1.617053</td>\n",
       "    </tr>\n",
       "    <tr>\n",
       "      <th>min</th>\n",
       "      <td>-19.500000</td>\n",
       "      <td>-7.800000</td>\n",
       "      <td>-17.900000</td>\n",
       "      <td>0.000000</td>\n",
       "      <td>0.000000</td>\n",
       "      <td>0.000000</td>\n",
       "      <td>0.000000</td>\n",
       "    </tr>\n",
       "    <tr>\n",
       "      <th>25%</th>\n",
       "      <td>-2.800000</td>\n",
       "      <td>-0.300000</td>\n",
       "      <td>-3.800000</td>\n",
       "      <td>0.000000</td>\n",
       "      <td>0.000000</td>\n",
       "      <td>0.000000</td>\n",
       "      <td>0.000000</td>\n",
       "    </tr>\n",
       "    <tr>\n",
       "      <th>50%</th>\n",
       "      <td>0.300000</td>\n",
       "      <td>-0.100000</td>\n",
       "      <td>-0.100000</td>\n",
       "      <td>3.600000</td>\n",
       "      <td>3.400000</td>\n",
       "      <td>0.800000</td>\n",
       "      <td>1.600000</td>\n",
       "    </tr>\n",
       "    <tr>\n",
       "      <th>75%</th>\n",
       "      <td>362.400000</td>\n",
       "      <td>107.000000</td>\n",
       "      <td>224.700000</td>\n",
       "      <td>359.500000</td>\n",
       "      <td>345.400000</td>\n",
       "      <td>2.000000</td>\n",
       "      <td>2.600000</td>\n",
       "    </tr>\n",
       "    <tr>\n",
       "      <th>max</th>\n",
       "      <td>1499.000000</td>\n",
       "      <td>946.000000</td>\n",
       "      <td>892.000000</td>\n",
       "      <td>1507.000000</td>\n",
       "      <td>1473.000000</td>\n",
       "      <td>19.200000</td>\n",
       "      <td>23.900000</td>\n",
       "    </tr>\n",
       "  </tbody>\n",
       "</table>\n",
       "</div>"
      ],
      "text/plain": [
       "                 GHI            DNI            DHI           ModA  \\\n",
       "count  525600.000000  525600.000000  525600.000000  525600.000000   \n",
       "mean      201.957515     116.376337     113.720571     206.643095   \n",
       "std       298.495150     218.652659     158.946032     300.896893   \n",
       "min       -19.500000      -7.800000     -17.900000       0.000000   \n",
       "25%        -2.800000      -0.300000      -3.800000       0.000000   \n",
       "50%         0.300000      -0.100000      -0.100000       3.600000   \n",
       "75%       362.400000     107.000000     224.700000     359.500000   \n",
       "max      1499.000000     946.000000     892.000000    1507.000000   \n",
       "\n",
       "                ModB             WS         WSgust  \n",
       "count  525600.000000  525600.000000  525600.000000  \n",
       "mean      198.114691       1.146113       1.691606  \n",
       "std       288.889073       1.239248       1.617053  \n",
       "min         0.000000       0.000000       0.000000  \n",
       "25%         0.000000       0.000000       0.000000  \n",
       "50%         3.400000       0.800000       1.600000  \n",
       "75%       345.400000       2.000000       2.600000  \n",
       "max      1473.000000      19.200000      23.900000  "
      ]
     },
     "execution_count": 16,
     "metadata": {},
     "output_type": "execute_result"
    }
   ],
   "source": [
    "df[Target_Column].describe()"
   ]
  },
  {
   "cell_type": "markdown",
   "id": "40486650",
   "metadata": {},
   "source": [
    "#GHI, DNI and DHI has a negative value in them so we cann't have a negative value of those sensors ,negative means they are giving radiation so we have to remove them "
   ]
  },
  {
   "cell_type": "code",
   "execution_count": 18,
   "id": "60dbd2a8",
   "metadata": {},
   "outputs": [
    {
     "name": "stdout",
     "output_type": "stream",
     "text": [
      "\n",
      "After fixing:\n",
      "                 GHI            DNI            DHI           ModA  \\\n",
      "count  525600.000000  525600.000000  525600.000000  525600.000000   \n",
      "mean      204.406778     116.523731     116.273677     206.643095   \n",
      "std       296.787520     218.573992     157.020868     300.896893   \n",
      "min         0.000000       0.000000       0.000000       0.000000   \n",
      "25%         0.000000       0.000000       0.000000       0.000000   \n",
      "50%         0.300000       0.000000       0.000000       3.600000   \n",
      "75%       362.400000     107.000000     224.700000     359.500000   \n",
      "max      1499.000000     946.000000     892.000000    1507.000000   \n",
      "\n",
      "                ModB             WS         WSgust  \n",
      "count  525600.000000  525600.000000  525600.000000  \n",
      "mean      198.114691       1.146113       1.691606  \n",
      "std       288.889073       1.239248       1.617053  \n",
      "min         0.000000       0.000000       0.000000  \n",
      "25%         0.000000       0.000000       0.000000  \n",
      "50%         3.400000       0.800000       1.600000  \n",
      "75%       345.400000       2.000000       2.600000  \n",
      "max      1473.000000      19.200000      23.900000  \n"
     ]
    }
   ],
   "source": [
    "cols_to_fix = Target_Column\n",
    "df[cols_to_fix] = df[cols_to_fix].clip(lower=0)\n",
    "\n",
    "print(\"\\nAfter fixing:\")\n",
    "print(df[cols_to_fix].describe())"
   ]
  },
  {
   "cell_type": "markdown",
   "id": "3cea3ca9",
   "metadata": {},
   "source": [
    ".ploting the boxplot for the tareted columns "
   ]
  },
  {
   "cell_type": "code",
   "execution_count": 19,
   "id": "46975071",
   "metadata": {},
   "outputs": [
    {
     "data": {
      "image/png": "[encoded data removed]",
      "text/plain": [
       "<Figure size 1400x800 with 7 Axes>"
      ]
     },
     "metadata": {},
     "output_type": "display_data"
    }
   ],
   "source": [
    "plt.figure(figsize=(14, 8))\n",
    "for i, col in enumerate(Target_Column):\n",
    "    plt.subplot(2, 4, i + 1)\n",
    "    sns.boxplot(y=df[col])\n",
    "    plt.title(col, fontsize=10)\n",
    "plt.tight_layout()\n",
    "plt.show()"
   ]
  },
  {
   "cell_type": "markdown",
   "id": "aa91001b",
   "metadata": {},
   "source": [
    ".zscore to remove the outliers "
   ]
  },
  {
   "cell_type": "code",
   "execution_count": 20,
   "id": "ace81089",
   "metadata": {},
   "outputs": [
    {
     "name": "stdout",
     "output_type": "stream",
     "text": [
      "Original rows: 525600\n",
      "Rows after outlier removal: 509053\n"
     ]
    }
   ],
   "source": [
    "# Compute Z-scores\n",
    "zscores = np.abs(stats.zscore(df[Target_Column]))\n",
    "\n",
    "# Mask for rows with all Z-scores <= 3 (i.e., no outliers)\n",
    "no_outliers_mask = (zscores <= 3).all(axis=1)\n",
    "\n",
    "# Apply the mask to get cleaned data\n",
    "df_clean = df[no_outliers_mask]\n",
    "\n",
    "# Compare before and after\n",
    "print(\"Original rows:\", df.shape[0])\n",
    "print(\"Rows after outlier removal:\", df_clean.shape[0])"
   ]
  },
  {
   "cell_type": "code",
   "execution_count": 22,
   "id": "45c7f598",
   "metadata": {},
   "outputs": [
    {
     "name": "stdout",
     "output_type": "stream",
     "text": [
      "Cleaned data saved to: C:\\Users\\User\\Desktop\\Week_0\\Moonlight-Solar-Farm-Analysis\\Data\\sierraleone_clean.csv\n"
     ]
    }
   ],
   "source": [
    "# Export cleaned data to CSV\n",
    "output_path = r\"C:\\Users\\User\\Desktop\\Week_0\\Moonlight-Solar-Farm-Analysis\\Data\\sierraleone_clean.csv\"\n",
    "df_clean.to_csv(output_path, index=False)\n",
    "\n",
    "print(f\"Cleaned data saved to: {output_path}\")"
   ]
  },
  {
   "cell_type": "markdown",
   "id": "c03deb21",
   "metadata": {},
   "source": [
    "#box plot after cleanup "
   ]
  },
  {
   "cell_type": "code",
   "execution_count": 23,
   "id": "c2f6d281",
   "metadata": {},
   "outputs": [
    {
     "data": {
      "image/png": "[encoded data removed]",
      "text/plain": [
       "<Figure size 1400x800 with 7 Axes>"
      ]
     },
     "metadata": {},
     "output_type": "display_data"
    }
   ],
   "source": [
    "plt.figure(figsize=(14, 8))\n",
    "for i, col in enumerate(Target_Column):\n",
    "    plt.subplot(2, 4, i + 1)\n",
    "    sns.boxplot(y=df_clean[col])\n",
    "    plt.title(f\"{col} (Cleaned)\", fontsize=10)\n",
    "plt.tight_layout()\n",
    "plt.show()"
   ]
  },
  {
   "cell_type": "markdown",
   "id": "9ce2cfcf",
   "metadata": {},
   "source": [
    ".Time series analyses "
   ]
  },
  {
   "cell_type": "code",
   "execution_count": null,
   "id": "4a7386c2",
   "metadata": {},
   "outputs": [],
   "source": [
    "# Optional: Sort by time\n",
    "df = df.sort_values('Timestamp')\n",
    "\n",
    "# Set as index (makes time series plotting easier)\n",
    "df.set_index('Timestamp', inplace=True)"
   ]
  }
 ],
 "metadata": {
  "kernelspec": {
   "display_name": ".venv",
   "language": "python",
   "name": "python3"
  },
  "language_info": {
   "codemirror_mode": {
    "name": "ipython",
    "version": 3
   },
   "file_extension": ".py",
   "mimetype": "text/x-python",
   "name": "python",
   "nbconvert_exporter": "python",
   "pygments_lexer": "ipython3",
   "version": "3.13.3"
  }
 },
 "nbformat": 4,
 "nbformat_minor": 5
}
