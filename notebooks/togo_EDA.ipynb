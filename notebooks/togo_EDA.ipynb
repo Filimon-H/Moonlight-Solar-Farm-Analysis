{
 "cells": [
  {
   "cell_type": "code",
   "execution_count": 1,
   "id": "ac586acf",
   "metadata": {},
   "outputs": [],
   "source": [
    "import pandas as pd\n",
    "import matplotlib.pyplot as plt\n",
    "import seaborn as sns\n",
    "from scipy import stats\n",
    "import numpy as np\n"
   ]
  },
  {
   "cell_type": "code",
   "execution_count": 2,
   "id": "1630b253",
   "metadata": {},
   "outputs": [],
   "source": [
    "df = pd.read_csv(\"C:/Users/User/Downloads/week 0/data/togo-dapaong_qc.csv\")"
   ]
  },
  {
   "cell_type": "markdown",
   "id": "2a7e1a88",
   "metadata": {},
   "source": [
    ".●\tSummary Statistics & Missing-Value Report"
   ]
  },
  {
   "cell_type": "code",
   "execution_count": 3,
   "id": "7710b0ce",
   "metadata": {},
   "outputs": [
    {
     "name": "stdout",
     "output_type": "stream",
     "text": [
      "          Timestamp  GHI  DNI  DHI  ModA  ModB  Tamb    RH   WS  WSgust  \\\n",
      "0  2021-10-25 00:01 -1.3  0.0  0.0   0.0   0.0  24.8  94.5  0.9     1.1   \n",
      "1  2021-10-25 00:02 -1.3  0.0  0.0   0.0   0.0  24.8  94.4  1.1     1.6   \n",
      "2  2021-10-25 00:03 -1.3  0.0  0.0   0.0   0.0  24.8  94.4  1.2     1.4   \n",
      "3  2021-10-25 00:04 -1.2  0.0  0.0   0.0   0.0  24.8  94.3  1.2     1.6   \n",
      "4  2021-10-25 00:05 -1.2  0.0  0.0   0.0   0.0  24.8  94.0  1.3     1.6   \n",
      "5  2021-10-25 00:06 -1.2  0.0  0.0   0.0   0.0  24.9  93.9  1.2     1.4   \n",
      "6  2021-10-25 00:07 -1.1  0.0  0.0   0.0   0.0  24.9  93.8  1.2     1.4   \n",
      "7  2021-10-25 00:08 -1.1  0.0  0.0   0.0   0.0  24.9  93.7  1.1     1.4   \n",
      "8  2021-10-25 00:09 -1.1  0.0  0.0   0.0   0.0  24.9  93.6  1.0     1.4   \n",
      "9  2021-10-25 00:10 -1.1  0.0  0.0   0.0   0.0  24.9  93.4  0.9     1.4   \n",
      "\n",
      "   WSstdev     WD  WDstdev   BP  Cleaning  Precipitation  TModA  TModB  \\\n",
      "0      0.4  227.6      1.1  977         0            0.0   24.7   24.4   \n",
      "1      0.4  229.3      0.7  977         0            0.0   24.7   24.4   \n",
      "2      0.3  228.5      2.9  977         0            0.0   24.7   24.4   \n",
      "3      0.3  229.1      4.6  977         0            0.0   24.7   24.4   \n",
      "4      0.4  227.5      1.6  977         0            0.0   24.7   24.4   \n",
      "5      0.3  226.2      4.8  977         0            0.0   24.8   24.5   \n",
      "6      0.3  226.4      0.9  977         0            0.0   24.8   24.5   \n",
      "7      0.3  224.5      2.8  977         0            0.0   24.8   24.5   \n",
      "8      0.3  225.6      4.1  977         0            0.0   24.8   24.5   \n",
      "9      0.4  231.5      0.9  977         0            0.0   24.8   24.5   \n",
      "\n",
      "   Comments  \n",
      "0       NaN  \n",
      "1       NaN  \n",
      "2       NaN  \n",
      "3       NaN  \n",
      "4       NaN  \n",
      "5       NaN  \n",
      "6       NaN  \n",
      "7       NaN  \n",
      "8       NaN  \n",
      "9       NaN  \n"
     ]
    }
   ],
   "source": [
    "print(df.head(10))"
   ]
  },
  {
   "cell_type": "code",
   "execution_count": 4,
   "id": "7aa58604",
   "metadata": {},
   "outputs": [
    {
     "name": "stdout",
     "output_type": "stream",
     "text": [
      "               Timestamp  GHI  DNI  DHI  ModA  ModB  Tamb    RH   WS  WSgust  \\\n",
      "525590  2022-10-24 23:51 -0.2  0.0  0.0   0.0   0.0  25.1  56.2  0.0     0.0   \n",
      "525591  2022-10-24 23:52 -0.3  0.0  0.0   0.0   0.0  25.1  56.3  0.0     0.0   \n",
      "525592  2022-10-24 23:53 -0.4  0.0  0.0   0.0   0.0  25.1  55.0  0.0     0.0   \n",
      "525593  2022-10-24 23:54 -0.6  0.0  0.0   0.0   0.0  25.1  54.2  0.0     0.0   \n",
      "525594  2022-10-24 23:55 -0.7  0.0  0.0   0.0   0.0  25.1  53.3  0.0     0.0   \n",
      "525595  2022-10-24 23:56 -0.8  0.0  0.0   0.0   0.0  25.2  53.8  0.0     0.0   \n",
      "525596  2022-10-24 23:57 -0.9  0.0  0.0   0.0   0.0  25.3  53.5  0.0     0.0   \n",
      "525597  2022-10-24 23:58 -1.0  0.0  0.0   0.0   0.0  25.3  53.4  0.0     0.0   \n",
      "525598  2022-10-24 23:59 -1.1  0.0  0.0   0.0   0.0  25.4  53.5  0.0     0.0   \n",
      "525599  2022-10-25 00:00 -1.2  0.0  0.0   0.0   0.0  25.4  52.3  0.0     0.0   \n",
      "\n",
      "        WSstdev   WD  WDstdev   BP  Cleaning  Precipitation  TModA  TModB  \\\n",
      "525590      0.0  0.0      0.0  977         0            0.0   24.4   24.3   \n",
      "525591      0.0  0.0      0.0  977         0            0.0   24.4   24.2   \n",
      "525592      0.0  0.0      0.0  977         0            0.0   24.4   24.2   \n",
      "525593      0.0  0.0      0.0  977         0            0.0   24.4   24.1   \n",
      "525594      0.0  0.0      0.0  977         0            0.0   24.3   24.1   \n",
      "525595      0.0  0.0      0.0  977         0            0.0   24.3   24.0   \n",
      "525596      0.0  0.0      0.0  977         0            0.0   24.3   24.0   \n",
      "525597      0.0  0.0      0.0  977         0            0.0   24.2   23.9   \n",
      "525598      0.0  0.0      0.0  977         0            0.0   24.1   23.8   \n",
      "525599      0.0  0.0      0.0  977         0            0.0   24.1   23.8   \n",
      "\n",
      "        Comments  \n",
      "525590       NaN  \n",
      "525591       NaN  \n",
      "525592       NaN  \n",
      "525593       NaN  \n",
      "525594       NaN  \n",
      "525595       NaN  \n",
      "525596       NaN  \n",
      "525597       NaN  \n",
      "525598       NaN  \n",
      "525599       NaN  \n"
     ]
    }
   ],
   "source": [
    "print(df.tail(10))"
   ]
  },
  {
   "cell_type": "code",
   "execution_count": 5,
   "id": "8dc0ee48",
   "metadata": {},
   "outputs": [
    {
     "data": {
      "text/html": [
       "<div>\n",
       "<style scoped>\n",
       "    .dataframe tbody tr th:only-of-type {\n",
       "        vertical-align: middle;\n",
       "    }\n",
       "\n",
       "    .dataframe tbody tr th {\n",
       "        vertical-align: top;\n",
       "    }\n",
       "\n",
       "    .dataframe thead th {\n",
       "        text-align: right;\n",
       "    }\n",
       "</style>\n",
       "<table border=\"1\" class=\"dataframe\">\n",
       "  <thead>\n",
       "    <tr style=\"text-align: right;\">\n",
       "      <th></th>\n",
       "      <th>GHI</th>\n",
       "      <th>DNI</th>\n",
       "      <th>DHI</th>\n",
       "      <th>ModA</th>\n",
       "      <th>ModB</th>\n",
       "      <th>Tamb</th>\n",
       "      <th>RH</th>\n",
       "      <th>WS</th>\n",
       "      <th>WSgust</th>\n",
       "      <th>WSstdev</th>\n",
       "      <th>WD</th>\n",
       "      <th>WDstdev</th>\n",
       "      <th>BP</th>\n",
       "      <th>Cleaning</th>\n",
       "      <th>Precipitation</th>\n",
       "      <th>TModA</th>\n",
       "      <th>TModB</th>\n",
       "      <th>Comments</th>\n",
       "    </tr>\n",
       "  </thead>\n",
       "  <tbody>\n",
       "    <tr>\n",
       "      <th>count</th>\n",
       "      <td>525600.000000</td>\n",
       "      <td>525600.000000</td>\n",
       "      <td>525600.000000</td>\n",
       "      <td>525600.000000</td>\n",
       "      <td>525600.000000</td>\n",
       "      <td>525600.000000</td>\n",
       "      <td>525600.000000</td>\n",
       "      <td>525600.000000</td>\n",
       "      <td>525600.000000</td>\n",
       "      <td>525600.000000</td>\n",
       "      <td>525600.000000</td>\n",
       "      <td>525600.000000</td>\n",
       "      <td>525600.000000</td>\n",
       "      <td>525600.000000</td>\n",
       "      <td>525600.000000</td>\n",
       "      <td>525600.000000</td>\n",
       "      <td>525600.000000</td>\n",
       "      <td>0.0</td>\n",
       "    </tr>\n",
       "    <tr>\n",
       "      <th>mean</th>\n",
       "      <td>230.555040</td>\n",
       "      <td>151.258469</td>\n",
       "      <td>116.444352</td>\n",
       "      <td>226.144375</td>\n",
       "      <td>219.568588</td>\n",
       "      <td>27.751788</td>\n",
       "      <td>55.013160</td>\n",
       "      <td>2.368093</td>\n",
       "      <td>3.229490</td>\n",
       "      <td>0.557740</td>\n",
       "      <td>161.741845</td>\n",
       "      <td>10.559568</td>\n",
       "      <td>975.915242</td>\n",
       "      <td>0.000535</td>\n",
       "      <td>0.001382</td>\n",
       "      <td>32.444403</td>\n",
       "      <td>33.543330</td>\n",
       "      <td>NaN</td>\n",
       "    </tr>\n",
       "    <tr>\n",
       "      <th>std</th>\n",
       "      <td>322.532347</td>\n",
       "      <td>250.956962</td>\n",
       "      <td>156.520714</td>\n",
       "      <td>317.346938</td>\n",
       "      <td>307.932510</td>\n",
       "      <td>4.758023</td>\n",
       "      <td>28.778732</td>\n",
       "      <td>1.462668</td>\n",
       "      <td>1.882565</td>\n",
       "      <td>0.268923</td>\n",
       "      <td>91.877217</td>\n",
       "      <td>5.915490</td>\n",
       "      <td>2.153977</td>\n",
       "      <td>0.023116</td>\n",
       "      <td>0.026350</td>\n",
       "      <td>10.998334</td>\n",
       "      <td>12.769277</td>\n",
       "      <td>NaN</td>\n",
       "    </tr>\n",
       "    <tr>\n",
       "      <th>min</th>\n",
       "      <td>-12.700000</td>\n",
       "      <td>0.000000</td>\n",
       "      <td>0.000000</td>\n",
       "      <td>0.000000</td>\n",
       "      <td>0.000000</td>\n",
       "      <td>14.900000</td>\n",
       "      <td>3.300000</td>\n",
       "      <td>0.000000</td>\n",
       "      <td>0.000000</td>\n",
       "      <td>0.000000</td>\n",
       "      <td>0.000000</td>\n",
       "      <td>0.000000</td>\n",
       "      <td>968.000000</td>\n",
       "      <td>0.000000</td>\n",
       "      <td>0.000000</td>\n",
       "      <td>13.100000</td>\n",
       "      <td>13.100000</td>\n",
       "      <td>NaN</td>\n",
       "    </tr>\n",
       "    <tr>\n",
       "      <th>25%</th>\n",
       "      <td>-2.200000</td>\n",
       "      <td>0.000000</td>\n",
       "      <td>0.000000</td>\n",
       "      <td>0.000000</td>\n",
       "      <td>0.000000</td>\n",
       "      <td>24.200000</td>\n",
       "      <td>26.500000</td>\n",
       "      <td>1.400000</td>\n",
       "      <td>1.900000</td>\n",
       "      <td>0.400000</td>\n",
       "      <td>74.800000</td>\n",
       "      <td>6.900000</td>\n",
       "      <td>975.000000</td>\n",
       "      <td>0.000000</td>\n",
       "      <td>0.000000</td>\n",
       "      <td>23.900000</td>\n",
       "      <td>23.600000</td>\n",
       "      <td>NaN</td>\n",
       "    </tr>\n",
       "    <tr>\n",
       "      <th>50%</th>\n",
       "      <td>2.100000</td>\n",
       "      <td>0.000000</td>\n",
       "      <td>2.500000</td>\n",
       "      <td>4.400000</td>\n",
       "      <td>4.300000</td>\n",
       "      <td>27.200000</td>\n",
       "      <td>59.300000</td>\n",
       "      <td>2.200000</td>\n",
       "      <td>2.900000</td>\n",
       "      <td>0.500000</td>\n",
       "      <td>199.100000</td>\n",
       "      <td>10.800000</td>\n",
       "      <td>976.000000</td>\n",
       "      <td>0.000000</td>\n",
       "      <td>0.000000</td>\n",
       "      <td>28.400000</td>\n",
       "      <td>28.400000</td>\n",
       "      <td>NaN</td>\n",
       "    </tr>\n",
       "    <tr>\n",
       "      <th>75%</th>\n",
       "      <td>442.400000</td>\n",
       "      <td>246.400000</td>\n",
       "      <td>215.700000</td>\n",
       "      <td>422.525000</td>\n",
       "      <td>411.000000</td>\n",
       "      <td>31.100000</td>\n",
       "      <td>80.800000</td>\n",
       "      <td>3.200000</td>\n",
       "      <td>4.400000</td>\n",
       "      <td>0.700000</td>\n",
       "      <td>233.500000</td>\n",
       "      <td>14.100000</td>\n",
       "      <td>977.000000</td>\n",
       "      <td>0.000000</td>\n",
       "      <td>0.000000</td>\n",
       "      <td>40.600000</td>\n",
       "      <td>43.000000</td>\n",
       "      <td>NaN</td>\n",
       "    </tr>\n",
       "    <tr>\n",
       "      <th>max</th>\n",
       "      <td>1424.000000</td>\n",
       "      <td>1004.500000</td>\n",
       "      <td>805.700000</td>\n",
       "      <td>1380.000000</td>\n",
       "      <td>1367.000000</td>\n",
       "      <td>41.400000</td>\n",
       "      <td>99.800000</td>\n",
       "      <td>16.100000</td>\n",
       "      <td>23.100000</td>\n",
       "      <td>4.700000</td>\n",
       "      <td>360.000000</td>\n",
       "      <td>86.900000</td>\n",
       "      <td>983.000000</td>\n",
       "      <td>1.000000</td>\n",
       "      <td>2.300000</td>\n",
       "      <td>70.400000</td>\n",
       "      <td>94.600000</td>\n",
       "      <td>NaN</td>\n",
       "    </tr>\n",
       "  </tbody>\n",
       "</table>\n",
       "</div>"
      ],
      "text/plain": [
       "                 GHI            DNI            DHI           ModA  \\\n",
       "count  525600.000000  525600.000000  525600.000000  525600.000000   \n",
       "mean      230.555040     151.258469     116.444352     226.144375   \n",
       "std       322.532347     250.956962     156.520714     317.346938   \n",
       "min       -12.700000       0.000000       0.000000       0.000000   \n",
       "25%        -2.200000       0.000000       0.000000       0.000000   \n",
       "50%         2.100000       0.000000       2.500000       4.400000   \n",
       "75%       442.400000     246.400000     215.700000     422.525000   \n",
       "max      1424.000000    1004.500000     805.700000    1380.000000   \n",
       "\n",
       "                ModB           Tamb             RH             WS  \\\n",
       "count  525600.000000  525600.000000  525600.000000  525600.000000   \n",
       "mean      219.568588      27.751788      55.013160       2.368093   \n",
       "std       307.932510       4.758023      28.778732       1.462668   \n",
       "min         0.000000      14.900000       3.300000       0.000000   \n",
       "25%         0.000000      24.200000      26.500000       1.400000   \n",
       "50%         4.300000      27.200000      59.300000       2.200000   \n",
       "75%       411.000000      31.100000      80.800000       3.200000   \n",
       "max      1367.000000      41.400000      99.800000      16.100000   \n",
       "\n",
       "              WSgust        WSstdev             WD        WDstdev  \\\n",
       "count  525600.000000  525600.000000  525600.000000  525600.000000   \n",
       "mean        3.229490       0.557740     161.741845      10.559568   \n",
       "std         1.882565       0.268923      91.877217       5.915490   \n",
       "min         0.000000       0.000000       0.000000       0.000000   \n",
       "25%         1.900000       0.400000      74.800000       6.900000   \n",
       "50%         2.900000       0.500000     199.100000      10.800000   \n",
       "75%         4.400000       0.700000     233.500000      14.100000   \n",
       "max        23.100000       4.700000     360.000000      86.900000   \n",
       "\n",
       "                  BP       Cleaning  Precipitation          TModA  \\\n",
       "count  525600.000000  525600.000000  525600.000000  525600.000000   \n",
       "mean      975.915242       0.000535       0.001382      32.444403   \n",
       "std         2.153977       0.023116       0.026350      10.998334   \n",
       "min       968.000000       0.000000       0.000000      13.100000   \n",
       "25%       975.000000       0.000000       0.000000      23.900000   \n",
       "50%       976.000000       0.000000       0.000000      28.400000   \n",
       "75%       977.000000       0.000000       0.000000      40.600000   \n",
       "max       983.000000       1.000000       2.300000      70.400000   \n",
       "\n",
       "               TModB  Comments  \n",
       "count  525600.000000       0.0  \n",
       "mean       33.543330       NaN  \n",
       "std        12.769277       NaN  \n",
       "min        13.100000       NaN  \n",
       "25%        23.600000       NaN  \n",
       "50%        28.400000       NaN  \n",
       "75%        43.000000       NaN  \n",
       "max        94.600000       NaN  "
      ]
     },
     "execution_count": 5,
     "metadata": {},
     "output_type": "execute_result"
    }
   ],
   "source": [
    "df.describe()"
   ]
  },
  {
   "cell_type": "code",
   "execution_count": null,
   "id": "18149139",
   "metadata": {},
   "outputs": [],
   "source": [
    "#To see the data types of the column "
   ]
  },
  {
   "cell_type": "code",
   "execution_count": 6,
   "id": "0458ceb6",
   "metadata": {},
   "outputs": [
    {
     "data": {
      "text/plain": [
       "Timestamp         object\n",
       "GHI              float64\n",
       "DNI              float64\n",
       "DHI              float64\n",
       "ModA             float64\n",
       "ModB             float64\n",
       "Tamb             float64\n",
       "RH               float64\n",
       "WS               float64\n",
       "WSgust           float64\n",
       "WSstdev          float64\n",
       "WD               float64\n",
       "WDstdev          float64\n",
       "BP                 int64\n",
       "Cleaning           int64\n",
       "Precipitation    float64\n",
       "TModA            float64\n",
       "TModB            float64\n",
       "Comments         float64\n",
       "dtype: object"
      ]
     },
     "execution_count": 6,
     "metadata": {},
     "output_type": "execute_result"
    }
   ],
   "source": [
    "df.dtypes"
   ]
  },
  {
   "cell_type": "code",
   "execution_count": 7,
   "id": "eece6e10",
   "metadata": {},
   "outputs": [],
   "source": [
    "# Convert 'Timestamp' column to datetime format\n",
    "df['Timestamp'] = pd.to_datetime(df['Timestamp'])"
   ]
  },
  {
   "cell_type": "code",
   "execution_count": 8,
   "id": "2b0fb1c0",
   "metadata": {},
   "outputs": [
    {
     "data": {
      "text/plain": [
       "Timestamp        datetime64[ns]\n",
       "GHI                     float64\n",
       "DNI                     float64\n",
       "DHI                     float64\n",
       "ModA                    float64\n",
       "ModB                    float64\n",
       "Tamb                    float64\n",
       "RH                      float64\n",
       "WS                      float64\n",
       "WSgust                  float64\n",
       "WSstdev                 float64\n",
       "WD                      float64\n",
       "WDstdev                 float64\n",
       "BP                        int64\n",
       "Cleaning                  int64\n",
       "Precipitation           float64\n",
       "TModA                   float64\n",
       "TModB                   float64\n",
       "Comments                float64\n",
       "dtype: object"
      ]
     },
     "execution_count": 8,
     "metadata": {},
     "output_type": "execute_result"
    }
   ],
   "source": [
    "df.dtypes"
   ]
  },
  {
   "cell_type": "code",
   "execution_count": null,
   "id": "a97af0d8",
   "metadata": {},
   "outputs": [],
   "source": [
    "# Find columns with more than 5% missing data using the missing_report DataFrame"
   ]
  },
  {
   "cell_type": "code",
   "execution_count": 9,
   "id": "3cd4a6e0",
   "metadata": {},
   "outputs": [
    {
     "name": "stdout",
     "output_type": "stream",
     "text": [
      "               Missing Count  Missing %\n",
      "Timestamp                  0        0.0\n",
      "GHI                        0        0.0\n",
      "DNI                        0        0.0\n",
      "DHI                        0        0.0\n",
      "ModA                       0        0.0\n",
      "ModB                       0        0.0\n",
      "Tamb                       0        0.0\n",
      "RH                         0        0.0\n",
      "WS                         0        0.0\n",
      "WSgust                     0        0.0\n",
      "WSstdev                    0        0.0\n",
      "WD                         0        0.0\n",
      "WDstdev                    0        0.0\n",
      "BP                         0        0.0\n",
      "Cleaning                   0        0.0\n",
      "Precipitation              0        0.0\n",
      "TModA                      0        0.0\n",
      "TModB                      0        0.0\n",
      "Comments              525600      100.0\n"
     ]
    }
   ],
   "source": [
    "missing_counts = df.isna().sum()\n",
    "missing_percent = (df.isna().mean() * 100).round(2)\n",
    "\n",
    "missing_report = pd.DataFrame({\n",
    "    'Missing Count': missing_counts,\n",
    "    'Missing %': missing_percent\n",
    "})\n",
    "\n",
    "print(missing_report)"
   ]
  },
  {
   "cell_type": "code",
   "execution_count": 10,
   "id": "20d7df40",
   "metadata": {},
   "outputs": [
    {
     "name": "stdout",
     "output_type": "stream",
     "text": [
      "Columns with more than 5 percent missing values:\n",
      "          Missing Count  Missing %\n",
      "Comments         525600      100.0\n"
     ]
    }
   ],
   "source": [
    "#To find  columns with more than 5% missing values, we can filter the `missing_report` DataFrame.\n",
    "\n",
    "# We can use the above missing report to find columns with more than 5% missing values.\n",
    "\n",
    "high_missing = missing_report[missing_report['Missing %'] > 5]\n",
    "\n",
    "# print the columns with more than 5% missing values\n",
    "print(\"Columns with more than 5 percent missing values:\")\n",
    "print(high_missing)\n"
   ]
  },
  {
   "cell_type": "code",
   "execution_count": 11,
   "id": "b7051eb6",
   "metadata": {},
   "outputs": [],
   "source": [
    "# The 'Comments' column has 100% missing values, as shown in the missing_report DataFrame.\n",
    "# This means it contains no useful information for our analysis and can be safely removed from the dataset.\n",
    "\n",
    "df = df.drop(columns=['Comments'])"
   ]
  },
  {
   "cell_type": "code",
   "execution_count": 12,
   "id": "9b8d5685",
   "metadata": {},
   "outputs": [
    {
     "name": "stdout",
     "output_type": "stream",
     "text": [
      "Index(['Timestamp', 'GHI', 'DNI', 'DHI', 'ModA', 'ModB', 'Tamb', 'RH', 'WS',\n",
      "       'WSgust', 'WSstdev', 'WD', 'WDstdev', 'BP', 'Cleaning', 'Precipitation',\n",
      "       'TModA', 'TModB'],\n",
      "      dtype='object')\n"
     ]
    }
   ],
   "source": [
    "# we can see the Comments column is not there anymore\n",
    "print(df.columns)"
   ]
  },
  {
   "cell_type": "code",
   "execution_count": 13,
   "id": "82a12307",
   "metadata": {},
   "outputs": [
    {
     "name": "stdout",
     "output_type": "stream",
     "text": [
      "0\n"
     ]
    }
   ],
   "source": [
    "# Check for duplicates\n",
    "print(df.duplicated().sum())"
   ]
  },
  {
   "cell_type": "markdown",
   "id": "b2bce4cc",
   "metadata": {},
   "source": [
    "●\tOutlier Detection & Basic Cleaning"
   ]
  },
  {
   "cell_type": "code",
   "execution_count": 15,
   "id": "2bd28f72",
   "metadata": {},
   "outputs": [
    {
     "name": "stdout",
     "output_type": "stream",
     "text": [
      "['GHI', 'DNI', 'DHI', 'ModA', 'ModB', 'WS', 'WSgust']\n"
     ]
    }
   ],
   "source": [
    "Target_Column = ['GHI', 'DNI', 'DHI', 'ModA', 'ModB', 'WS', 'WSgust']\n",
    "print(Target_Column)"
   ]
  },
  {
   "cell_type": "code",
   "execution_count": 16,
   "id": "cd12d8ed",
   "metadata": {},
   "outputs": [
    {
     "data": {
      "text/html": [
       "<div>\n",
       "<style scoped>\n",
       "    .dataframe tbody tr th:only-of-type {\n",
       "        vertical-align: middle;\n",
       "    }\n",
       "\n",
       "    .dataframe tbody tr th {\n",
       "        vertical-align: top;\n",
       "    }\n",
       "\n",
       "    .dataframe thead th {\n",
       "        text-align: right;\n",
       "    }\n",
       "</style>\n",
       "<table border=\"1\" class=\"dataframe\">\n",
       "  <thead>\n",
       "    <tr style=\"text-align: right;\">\n",
       "      <th></th>\n",
       "      <th>GHI</th>\n",
       "      <th>DNI</th>\n",
       "      <th>DHI</th>\n",
       "      <th>ModA</th>\n",
       "      <th>ModB</th>\n",
       "      <th>WS</th>\n",
       "      <th>WSgust</th>\n",
       "    </tr>\n",
       "  </thead>\n",
       "  <tbody>\n",
       "    <tr>\n",
       "      <th>count</th>\n",
       "      <td>525600.000000</td>\n",
       "      <td>525600.000000</td>\n",
       "      <td>525600.000000</td>\n",
       "      <td>525600.000000</td>\n",
       "      <td>525600.000000</td>\n",
       "      <td>525600.000000</td>\n",
       "      <td>525600.000000</td>\n",
       "    </tr>\n",
       "    <tr>\n",
       "      <th>mean</th>\n",
       "      <td>230.555040</td>\n",
       "      <td>151.258469</td>\n",
       "      <td>116.444352</td>\n",
       "      <td>226.144375</td>\n",
       "      <td>219.568588</td>\n",
       "      <td>2.368093</td>\n",
       "      <td>3.229490</td>\n",
       "    </tr>\n",
       "    <tr>\n",
       "      <th>std</th>\n",
       "      <td>322.532347</td>\n",
       "      <td>250.956962</td>\n",
       "      <td>156.520714</td>\n",
       "      <td>317.346938</td>\n",
       "      <td>307.932510</td>\n",
       "      <td>1.462668</td>\n",
       "      <td>1.882565</td>\n",
       "    </tr>\n",
       "    <tr>\n",
       "      <th>min</th>\n",
       "      <td>-12.700000</td>\n",
       "      <td>0.000000</td>\n",
       "      <td>0.000000</td>\n",
       "      <td>0.000000</td>\n",
       "      <td>0.000000</td>\n",
       "      <td>0.000000</td>\n",
       "      <td>0.000000</td>\n",
       "    </tr>\n",
       "    <tr>\n",
       "      <th>25%</th>\n",
       "      <td>-2.200000</td>\n",
       "      <td>0.000000</td>\n",
       "      <td>0.000000</td>\n",
       "      <td>0.000000</td>\n",
       "      <td>0.000000</td>\n",
       "      <td>1.400000</td>\n",
       "      <td>1.900000</td>\n",
       "    </tr>\n",
       "    <tr>\n",
       "      <th>50%</th>\n",
       "      <td>2.100000</td>\n",
       "      <td>0.000000</td>\n",
       "      <td>2.500000</td>\n",
       "      <td>4.400000</td>\n",
       "      <td>4.300000</td>\n",
       "      <td>2.200000</td>\n",
       "      <td>2.900000</td>\n",
       "    </tr>\n",
       "    <tr>\n",
       "      <th>75%</th>\n",
       "      <td>442.400000</td>\n",
       "      <td>246.400000</td>\n",
       "      <td>215.700000</td>\n",
       "      <td>422.525000</td>\n",
       "      <td>411.000000</td>\n",
       "      <td>3.200000</td>\n",
       "      <td>4.400000</td>\n",
       "    </tr>\n",
       "    <tr>\n",
       "      <th>max</th>\n",
       "      <td>1424.000000</td>\n",
       "      <td>1004.500000</td>\n",
       "      <td>805.700000</td>\n",
       "      <td>1380.000000</td>\n",
       "      <td>1367.000000</td>\n",
       "      <td>16.100000</td>\n",
       "      <td>23.100000</td>\n",
       "    </tr>\n",
       "  </tbody>\n",
       "</table>\n",
       "</div>"
      ],
      "text/plain": [
       "                 GHI            DNI            DHI           ModA  \\\n",
       "count  525600.000000  525600.000000  525600.000000  525600.000000   \n",
       "mean      230.555040     151.258469     116.444352     226.144375   \n",
       "std       322.532347     250.956962     156.520714     317.346938   \n",
       "min       -12.700000       0.000000       0.000000       0.000000   \n",
       "25%        -2.200000       0.000000       0.000000       0.000000   \n",
       "50%         2.100000       0.000000       2.500000       4.400000   \n",
       "75%       442.400000     246.400000     215.700000     422.525000   \n",
       "max      1424.000000    1004.500000     805.700000    1380.000000   \n",
       "\n",
       "                ModB             WS         WSgust  \n",
       "count  525600.000000  525600.000000  525600.000000  \n",
       "mean      219.568588       2.368093       3.229490  \n",
       "std       307.932510       1.462668       1.882565  \n",
       "min         0.000000       0.000000       0.000000  \n",
       "25%         0.000000       1.400000       1.900000  \n",
       "50%         4.300000       2.200000       2.900000  \n",
       "75%       411.000000       3.200000       4.400000  \n",
       "max      1367.000000      16.100000      23.100000  "
      ]
     },
     "execution_count": 16,
     "metadata": {},
     "output_type": "execute_result"
    }
   ],
   "source": [
    "df[Target_Column].describe()"
   ]
  },
  {
   "cell_type": "code",
   "execution_count": null,
   "id": "2d43d9f4",
   "metadata": {},
   "outputs": [],
   "source": [
    "#GHI has -ve value that needs to be removed"
   ]
  },
  {
   "cell_type": "code",
   "execution_count": 17,
   "id": "a9be46ce",
   "metadata": {},
   "outputs": [
    {
     "name": "stdout",
     "output_type": "stream",
     "text": [
      "\n",
      "After fixing:\n",
      "count    525600.000000\n",
      "mean        231.718786\n",
      "std         321.691953\n",
      "min           0.000000\n",
      "25%           0.000000\n",
      "50%           2.100000\n",
      "75%         442.400000\n",
      "max        1424.000000\n",
      "Name: GHI, dtype: float64\n"
     ]
    }
   ],
   "source": [
    "df['GHI'] = df['GHI'].clip(lower=0)\n",
    "print(\"\\nAfter fixing:\")\n",
    "print(df['GHI'].describe())"
   ]
  },
  {
   "cell_type": "markdown",
   "id": "baccb7a6",
   "metadata": {},
   "source": [
    ".ploting the boxplot for the tareted columns "
   ]
  }
 ],
 "metadata": {
  "kernelspec": {
   "display_name": ".venv",
   "language": "python",
   "name": "python3"
  },
  "language_info": {
   "codemirror_mode": {
    "name": "ipython",
    "version": 3
   },
   "file_extension": ".py",
   "mimetype": "text/x-python",
   "name": "python",
   "nbconvert_exporter": "python",
   "pygments_lexer": "ipython3",
   "version": "3.13.3"
  }
 },
 "nbformat": 4,
 "nbformat_minor": 5
}
